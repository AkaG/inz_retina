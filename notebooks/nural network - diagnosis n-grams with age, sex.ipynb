{
 "cells": [
  {
   "cell_type": "code",
   "execution_count": 1,
   "metadata": {},
   "outputs": [
    {
     "name": "stderr",
     "output_type": "stream",
     "text": [
      "Using TensorFlow backend.\n"
     ]
    }
   ],
   "source": [
    "from neural_network.nn_manager.TrainManager import TrainManager\n",
    "from neural_network.store.DBNNSave import DBNNSave\n",
    "from keras.models import Sequential, Model\n",
    "from keras.layers import Dense, Dropout, Activation, Flatten, Reshape, Input, Conv2D, BatchNormalization\n",
    "from keras.layers.convolutional import Convolution1D, Convolution2D, MaxPooling2D\n",
    "from keras.preprocessing.image import ImageDataGenerator\n",
    "import keras\n",
    "import keras.backend as K\n",
    "from random import shuffle\n",
    "import h5py\n",
    "import numpy as np\n",
    "import tensorflow as tf\n",
    "\n",
    "config = tf.ConfigProto()\n",
    "config.gpu_options.allow_growth = True\n",
    "session = tf.Session(config=config)\n",
    "np.random.seed(7)"
   ]
  },
  {
   "cell_type": "code",
   "execution_count": 7,
   "metadata": {},
   "outputs": [],
   "source": [
    "class retinaNN(TrainManager):\n",
    "    def __init__(self):\n",
    "        self.path_to_data = './data_s5.hdf5'\n",
    "        self.prepare_data(self.path_to_data)\n",
    "        self.batch_size = 10\n",
    "        self.epochs = 25\n",
    "        self.example_images = []\n",
    "        super(retinaNN, self).__init__()\n",
    "        \n",
    "        self.datagen_train = ImageDataGenerator(\n",
    "            vertical_flip=True,\n",
    "            horizontal_flip=True,\n",
    "            zoom_range=0.2,\n",
    "            shear_range=0.2,\n",
    "            rotation_range = 30\n",
    "        )\n",
    "        \n",
    "        self.datagen_val = ImageDataGenerator(\n",
    "        )\n",
    "        \n",
    "    def prepare_data(self, path):\n",
    "        hdf5_file = h5py.File(path, 'r')\n",
    "        self.get_handlers(hdf5_file)\n",
    "        self.load_sizes()\n",
    "        \n",
    "    def load_sizes(self):\n",
    "        self.img_size_1 = self.X_train.shape[1]\n",
    "        self.img_size_2 = self.X_train.shape[2]\n",
    "        self.outputs_size = self.Y_train.shape[1]\n",
    "        self.num_train_samples = self.X_train.shape[0]\n",
    "        self.num_val_samples = self.X_val.shape[0]\n",
    "        self.num_test_samples = self.X_test.shape[0]\n",
    "    \n",
    "    def get_handlers(self, file):\n",
    "        self.X_train = file['train_data_x']\n",
    "        self.X_train_medic = file['train_data_medic']\n",
    "        self.Y_train = file['train_data_y']\n",
    "        self.X_val = file['val_data_x']\n",
    "        self.X_val_medic = file['val_data_medic']\n",
    "        self.Y_val = file['val_data_y']\n",
    "        self.X_test = file['test_data_x']\n",
    "        self.Y_test = file['test_data_y']\n",
    "        self.X_test_medic = file['test_data_medic']\n",
    "    \n",
    "    def store_method(self):\n",
    "        return DBNNSave()\n",
    "\n",
    "    def train_data_generator(self):\n",
    "        generator = self._generator(self.X_train,  self.X_train_medic, self.Y_train, self.datagen_train)\n",
    "        return generator\n",
    "\n",
    "    def test_data_generator(self):\n",
    "        generator = self._generator(self.X_val, self.X_train_medic, self.Y_val, self.datagen_val)\n",
    "        return generator\n",
    "\n",
    "    def create_model(self):\n",
    "        input_image = Input(shape=(self.img_size_1, self.img_size_2, 3))\n",
    "        input_med = Input(shape=(93,))\n",
    "\n",
    "        layer = Conv2D(filters=32, kernel_size=(3, 3))(input_image)\n",
    "        layer = BatchNormalization(axis=1)(layer)\n",
    "        layer = Activation('relu')(layer)\n",
    "        layer = MaxPooling2D(pool_size=(2, 2))(layer)\n",
    "        \n",
    "        layer = Conv2D(filters=32, kernel_size=(3, 3))(input_image)\n",
    "        layer = BatchNormalization(axis=1)(layer)\n",
    "        layer = Activation('relu')(layer)\n",
    "        layer = MaxPooling2D(pool_size=(2, 2))(layer)\n",
    "        \n",
    "        layer = Flatten()(layer)\n",
    "        \n",
    "        merge = keras.layers.concatenate([layer, input_med])\n",
    "        \n",
    "        layer = Dense(self.outputs_size)(merge)\n",
    "        layer = BatchNormalization(axis=1)(layer)\n",
    "        output_layer = Activation('softmax')(layer)\n",
    "        model = Model(inputs=[input_image,input_med], outputs=output_layer)\n",
    "        model.compile( optimizer='adam',\n",
    "                      loss='binary_crossentropy',\n",
    "                      metrics=[self.f1_score, self.precision, self.recall])\n",
    "        return model\n",
    "\n",
    "    def f1_score(self, y_true, y_pred):\n",
    "        c1 = self.get_true_positive(y_true,y_pred)\n",
    "        c2 = self.get_positive_pred(y_pred)\n",
    "        c3 = self.get_positive_true(y_true)\n",
    "\n",
    "        if c3 == 0:\n",
    "            return 0\n",
    "\n",
    "        precision = c1 / c2\n",
    "        recall = c1 / c3\n",
    "        f1_score = 2 * (precision * recall) / (precision + recall)\n",
    "        return f1_score\n",
    "    \n",
    "    def precision(self,y_true,y_pred):\n",
    "        c1 = self.get_true_positive(y_true,y_pred)\n",
    "        c2 = self.get_positive_pred(y_pred)\n",
    "        return c1/c2\n",
    "    \n",
    "    def recall(self,y_true,y_pred):\n",
    "        c1 = self.get_true_positive(y_true,y_pred)\n",
    "        c3 = self.get_positive_true(y_true)\n",
    "        return c1/c3\n",
    "    \n",
    "    def get_true_positive(self,y_true,y_pred):\n",
    "        return K.sum(K.round(K.clip(y_true * y_pred, 0, 1)))\n",
    "    \n",
    "    def get_positive_pred(self,y_pred):\n",
    "        return K.sum(K.round(K.clip(y_pred, 0, 1)))\n",
    "    \n",
    "    def get_positive_true(self,y_true):\n",
    "        return K.sum(K.round(K.clip(y_true, 0, 1)))\n",
    "    \n",
    "    def _generator(self,X,X_medic,Y,datagen):       \n",
    "        while 1:\n",
    "            batch_s = self.batch_size\n",
    "            for i in range(X.shape[0] // self.batch_size):\n",
    "                x_part1 = X[i*batch_s: (i+1)*batch_s]\n",
    "                x_part2 = X_medic[i*batch_s: (i+1)*batch_s]\n",
    "                y_part = Y[i*batch_s: (i+1)*batch_s]\n",
    "                yield [x_part1,x_part2], y_part\n",
    "        \n",
    "    def train(self):\n",
    "        return self.train_model(\n",
    "            self.num_train_samples // self.batch_size,\n",
    "            self.num_val_samples // self.batch_size,\n",
    "            epochs=self.epochs\n",
    "        )"
   ]
  },
  {
   "cell_type": "code",
   "execution_count": 8,
   "metadata": {
    "scrolled": true
   },
   "outputs": [
    {
     "name": "stdout",
     "output_type": "stream",
     "text": [
      "180\n",
      "60\n",
      "57\n",
      "Epoch 1/25\n",
      "18/18 [==============================] - 14s 759ms/step - loss: 0.1128 - f1_score: nan - precision: nan - recall: 0.0000e+00 - val_loss: 0.1322 - val_f1_score: nan - val_precision: nan - val_recall: 0.0000e+00\n",
      "Epoch 2/25\n",
      "18/18 [==============================] - 11s 601ms/step - loss: 0.0922 - f1_score: nan - precision: nan - recall: 0.0000e+00 - val_loss: 0.1134 - val_f1_score: nan - val_precision: nan - val_recall: 0.0000e+00\n",
      "Epoch 3/25\n",
      "18/18 [==============================] - 11s 598ms/step - loss: 0.0828 - f1_score: nan - precision: nan - recall: 0.0000e+00 - val_loss: 0.1085 - val_f1_score: nan - val_precision: nan - val_recall: 0.0000e+00\n",
      "Epoch 4/25\n",
      "18/18 [==============================] - 11s 605ms/step - loss: 0.0761 - f1_score: nan - precision: nan - recall: 0.0000e+00 - val_loss: 0.1070 - val_f1_score: nan - val_precision: nan - val_recall: 0.0000e+00\n",
      "Epoch 5/25\n",
      "18/18 [==============================] - 11s 597ms/step - loss: 0.0723 - f1_score: nan - precision: nan - recall: 0.0000e+00 - val_loss: 0.1073 - val_f1_score: nan - val_precision: nan - val_recall: 0.0000e+00\n",
      "Epoch 6/25\n",
      "18/18 [==============================] - 11s 595ms/step - loss: 0.0700 - f1_score: nan - precision: nan - recall: 0.0000e+00 - val_loss: 0.1078 - val_f1_score: nan - val_precision: nan - val_recall: 0.0000e+00\n",
      "Epoch 7/25\n",
      "18/18 [==============================] - 11s 595ms/step - loss: 0.0686 - f1_score: nan - precision: nan - recall: 0.0000e+00 - val_loss: 0.1088 - val_f1_score: nan - val_precision: nan - val_recall: 0.0000e+00\n",
      "Epoch 8/25\n",
      "18/18 [==============================] - 11s 595ms/step - loss: 0.0676 - f1_score: nan - precision: nan - recall: 0.0000e+00 - val_loss: 0.1093 - val_f1_score: nan - val_precision: nan - val_recall: 0.0000e+00\n",
      "Epoch 9/25\n",
      "18/18 [==============================] - 11s 594ms/step - loss: 0.0668 - f1_score: nan - precision: nan - recall: 0.0000e+00 - val_loss: 0.1095 - val_f1_score: nan - val_precision: nan - val_recall: 0.0000e+00\n",
      "Epoch 10/25\n",
      "18/18 [==============================] - 11s 596ms/step - loss: 0.0663 - f1_score: nan - precision: nan - recall: 0.0000e+00 - val_loss: 0.1099 - val_f1_score: nan - val_precision: nan - val_recall: 0.0000e+00\n",
      "Epoch 11/25\n",
      "18/18 [==============================] - 11s 597ms/step - loss: 0.0659 - f1_score: nan - precision: nan - recall: 0.0000e+00 - val_loss: 0.1098 - val_f1_score: nan - val_precision: nan - val_recall: 0.0000e+00\n",
      "Epoch 12/25\n",
      "18/18 [==============================] - 11s 595ms/step - loss: 0.0657 - f1_score: nan - precision: nan - recall: 0.0000e+00 - val_loss: 0.1098 - val_f1_score: nan - val_precision: nan - val_recall: 0.0000e+00\n",
      "Epoch 13/25\n",
      "18/18 [==============================] - 11s 596ms/step - loss: 0.0655 - f1_score: nan - precision: nan - recall: 0.0000e+00 - val_loss: 0.1094 - val_f1_score: nan - val_precision: nan - val_recall: 0.0000e+00\n",
      "Epoch 14/25\n",
      "18/18 [==============================] - 11s 604ms/step - loss: 0.0648 - f1_score: nan - precision: nan - recall: 0.0000e+00 - val_loss: 0.1102 - val_f1_score: nan - val_precision: nan - val_recall: 0.0000e+00\n",
      "Epoch 15/25\n",
      "18/18 [==============================] - 11s 596ms/step - loss: 0.0640 - f1_score: nan - precision: nan - recall: 0.0000e+00 - val_loss: 0.1104 - val_f1_score: nan - val_precision: nan - val_recall: 0.0000e+00\n",
      "Epoch 16/25\n",
      "18/18 [==============================] - 11s 597ms/step - loss: 0.0633 - f1_score: nan - precision: nan - recall: 0.0000e+00 - val_loss: 0.1098 - val_f1_score: nan - val_precision: nan - val_recall: 0.0000e+00\n",
      "Epoch 17/25\n",
      "18/18 [==============================] - 11s 596ms/step - loss: 0.0629 - f1_score: nan - precision: nan - recall: 0.0000e+00 - val_loss: 0.1098 - val_f1_score: nan - val_precision: nan - val_recall: 0.0000e+00\n",
      "Epoch 18/25\n",
      "18/18 [==============================] - 11s 603ms/step - loss: 0.0625 - f1_score: nan - precision: nan - recall: 0.0000e+00 - val_loss: 0.1095 - val_f1_score: nan - val_precision: nan - val_recall: 0.0000e+00\n",
      "Epoch 19/25\n",
      "18/18 [==============================] - 11s 594ms/step - loss: 0.0622 - f1_score: nan - precision: nan - recall: 0.0000e+00 - val_loss: 0.1096 - val_f1_score: nan - val_precision: nan - val_recall: 0.0000e+00\n",
      "Epoch 20/25\n",
      "18/18 [==============================] - 11s 595ms/step - loss: 0.0620 - f1_score: nan - precision: nan - recall: 0.0000e+00 - val_loss: 0.1095 - val_f1_score: nan - val_precision: nan - val_recall: 0.0000e+00\n",
      "Epoch 21/25\n",
      "18/18 [==============================] - 11s 602ms/step - loss: 0.0617 - f1_score: nan - precision: nan - recall: 0.0000e+00 - val_loss: 0.1094 - val_f1_score: nan - val_precision: nan - val_recall: 0.0000e+00\n",
      "Epoch 22/25\n",
      "18/18 [==============================] - 11s 611ms/step - loss: 0.0615 - f1_score: nan - precision: nan - recall: 0.0000e+00 - val_loss: 0.1092 - val_f1_score: nan - val_precision: nan - val_recall: 0.0000e+00\n",
      "Epoch 23/25\n",
      "18/18 [==============================] - 11s 600ms/step - loss: 0.0613 - f1_score: nan - precision: nan - recall: 0.0000e+00 - val_loss: 0.1095 - val_f1_score: nan - val_precision: nan - val_recall: 0.0000e+00\n",
      "Epoch 24/25\n",
      "18/18 [==============================] - 11s 600ms/step - loss: 0.0611 - f1_score: nan - precision: nan - recall: 0.0000e+00 - val_loss: 0.1092 - val_f1_score: nan - val_precision: nan - val_recall: 0.0000e+00\n",
      "Epoch 25/25\n",
      "18/18 [==============================] - 11s 601ms/step - loss: 0.0609 - f1_score: nan - precision: nan - recall: 0.0000e+00 - val_loss: 0.1090 - val_f1_score: nan - val_precision: nan - val_recall: 0.0000e+00\n"
     ]
    },
    {
     "ename": "KeyError",
     "evalue": "'val_loss'",
     "output_type": "error",
     "traceback": [
      "\u001b[1;31m---------------------------------------------------------------------------\u001b[0m",
      "\u001b[1;31mKeyError\u001b[0m                                  Traceback (most recent call last)",
      "\u001b[1;32m<ipython-input-8-9c19f1b46fbe>\u001b[0m in \u001b[0;36m<module>\u001b[1;34m()\u001b[0m\n\u001b[0;32m      5\u001b[0m \u001b[1;33m\u001b[0m\u001b[0m\n\u001b[0;32m      6\u001b[0m \u001b[1;33m\u001b[0m\u001b[0m\n\u001b[1;32m----> 7\u001b[1;33m \u001b[0mhistory\u001b[0m \u001b[1;33m=\u001b[0m \u001b[0mretina\u001b[0m\u001b[1;33m.\u001b[0m\u001b[0mtrain\u001b[0m\u001b[1;33m(\u001b[0m\u001b[1;33m)\u001b[0m\u001b[1;33m\u001b[0m\u001b[0m\n\u001b[0m",
      "\u001b[1;32m<ipython-input-7-c215f8e701d1>\u001b[0m in \u001b[0;36mtrain\u001b[1;34m(self)\u001b[0m\n\u001b[0;32m    126\u001b[0m             \u001b[0mself\u001b[0m\u001b[1;33m.\u001b[0m\u001b[0mnum_train_samples\u001b[0m \u001b[1;33m//\u001b[0m \u001b[0mself\u001b[0m\u001b[1;33m.\u001b[0m\u001b[0mbatch_size\u001b[0m\u001b[1;33m,\u001b[0m\u001b[1;33m\u001b[0m\u001b[0m\n\u001b[0;32m    127\u001b[0m             \u001b[0mself\u001b[0m\u001b[1;33m.\u001b[0m\u001b[0mnum_val_samples\u001b[0m \u001b[1;33m//\u001b[0m \u001b[0mself\u001b[0m\u001b[1;33m.\u001b[0m\u001b[0mbatch_size\u001b[0m\u001b[1;33m,\u001b[0m\u001b[1;33m\u001b[0m\u001b[0m\n\u001b[1;32m--> 128\u001b[1;33m             \u001b[0mepochs\u001b[0m\u001b[1;33m=\u001b[0m\u001b[0mself\u001b[0m\u001b[1;33m.\u001b[0m\u001b[0mepochs\u001b[0m\u001b[1;33m\u001b[0m\u001b[0m\n\u001b[0m\u001b[0;32m    129\u001b[0m         )\n",
      "\u001b[1;32m~\\Projects\\inz_retina\\neural_network\\nn_manager\\TrainManager.py\u001b[0m in \u001b[0;36mtrain_model\u001b[1;34m(self, steps_per_epoch, validation_steps, epochs, save_at_end)\u001b[0m\n\u001b[0;32m     40\u001b[0m \u001b[1;33m\u001b[0m\u001b[0m\n\u001b[0;32m     41\u001b[0m         \u001b[1;32mif\u001b[0m \u001b[0msave_at_end\u001b[0m\u001b[1;33m:\u001b[0m\u001b[1;33m\u001b[0m\u001b[0m\n\u001b[1;32m---> 42\u001b[1;33m             \u001b[0mself\u001b[0m\u001b[1;33m.\u001b[0m\u001b[0mnn_save_class\u001b[0m\u001b[1;33m.\u001b[0m\u001b[0msave\u001b[0m\u001b[1;33m(\u001b[0m\u001b[0mself\u001b[0m\u001b[1;33m.\u001b[0m\u001b[0mmodel\u001b[0m\u001b[1;33m)\u001b[0m\u001b[1;33m\u001b[0m\u001b[0m\n\u001b[0m\u001b[0;32m     43\u001b[0m \u001b[1;33m\u001b[0m\u001b[0m\n\u001b[0;32m     44\u001b[0m         \u001b[1;32mreturn\u001b[0m \u001b[0mhistory\u001b[0m\u001b[1;33m\u001b[0m\u001b[0m\n",
      "\u001b[1;32m~\\Projects\\inz_retina\\neural_network\\store\\AbstractNNSave.py\u001b[0m in \u001b[0;36msave\u001b[1;34m(self, model, **kwargs)\u001b[0m\n\u001b[0;32m      8\u001b[0m     \u001b[1;32mdef\u001b[0m \u001b[0msave\u001b[0m\u001b[1;33m(\u001b[0m\u001b[0mself\u001b[0m\u001b[1;33m,\u001b[0m \u001b[0mmodel\u001b[0m\u001b[1;33m,\u001b[0m \u001b[1;33m**\u001b[0m\u001b[0mkwargs\u001b[0m\u001b[1;33m)\u001b[0m\u001b[1;33m:\u001b[0m\u001b[1;33m\u001b[0m\u001b[0m\n\u001b[0;32m      9\u001b[0m         \u001b[0mself\u001b[0m\u001b[1;33m.\u001b[0m\u001b[0mkwargs\u001b[0m \u001b[1;33m=\u001b[0m \u001b[0mkwargs\u001b[0m\u001b[1;33m\u001b[0m\u001b[0m\n\u001b[1;32m---> 10\u001b[1;33m         \u001b[0mself\u001b[0m\u001b[1;33m.\u001b[0m\u001b[0msave_model\u001b[0m\u001b[1;33m(\u001b[0m\u001b[0mmodel\u001b[0m\u001b[1;33m)\u001b[0m\u001b[1;33m\u001b[0m\u001b[0m\n\u001b[0m\u001b[0;32m     11\u001b[0m         \u001b[0mself\u001b[0m\u001b[1;33m.\u001b[0m\u001b[0msave_weights\u001b[0m\u001b[1;33m(\u001b[0m\u001b[0mmodel\u001b[0m\u001b[1;33m)\u001b[0m\u001b[1;33m\u001b[0m\u001b[0m\n\u001b[0;32m     12\u001b[0m \u001b[1;33m\u001b[0m\u001b[0m\n",
      "\u001b[1;32m~\\Projects\\inz_retina\\neural_network\\store\\DBNNSave.py\u001b[0m in \u001b[0;36msave_model\u001b[1;34m(self, model)\u001b[0m\n\u001b[0;32m     19\u001b[0m     \u001b[1;32mdef\u001b[0m \u001b[0msave_model\u001b[0m\u001b[1;33m(\u001b[0m\u001b[0mself\u001b[0m\u001b[1;33m,\u001b[0m \u001b[0mmodel\u001b[0m\u001b[1;33m)\u001b[0m\u001b[1;33m:\u001b[0m\u001b[1;33m\u001b[0m\u001b[0m\n\u001b[0;32m     20\u001b[0m         \u001b[1;32mwith\u001b[0m \u001b[0mtempfile\u001b[0m\u001b[1;33m.\u001b[0m\u001b[0mTemporaryDirectory\u001b[0m\u001b[1;33m(\u001b[0m\u001b[0mdir\u001b[0m\u001b[1;33m=\u001b[0m\u001b[0msettings\u001b[0m\u001b[1;33m.\u001b[0m\u001b[0mMEDIA_ROOT\u001b[0m\u001b[1;33m)\u001b[0m \u001b[1;32mas\u001b[0m \u001b[0mtemp_dir\u001b[0m\u001b[1;33m:\u001b[0m\u001b[1;33m\u001b[0m\u001b[0m\n\u001b[1;32m---> 21\u001b[1;33m             \u001b[0mfile_path\u001b[0m \u001b[1;33m=\u001b[0m \u001b[0mos\u001b[0m\u001b[1;33m.\u001b[0m\u001b[0mpath\u001b[0m\u001b[1;33m.\u001b[0m\u001b[0mjoin\u001b[0m\u001b[1;33m(\u001b[0m\u001b[0mtemp_dir\u001b[0m\u001b[1;33m,\u001b[0m \u001b[1;34m\"nn_model\"\u001b[0m\u001b[1;33m+\u001b[0m\u001b[0mstr\u001b[0m\u001b[1;33m(\u001b[0m\u001b[0mself\u001b[0m\u001b[1;33m.\u001b[0m\u001b[0mkwargs\u001b[0m\u001b[1;33m[\u001b[0m\u001b[1;34m'val_loss'\u001b[0m\u001b[1;33m]\u001b[0m\u001b[1;33m)\u001b[0m\u001b[1;33m+\u001b[0m\u001b[1;34m'_'\u001b[0m\u001b[1;33m+\u001b[0m\u001b[0mstr\u001b[0m\u001b[1;33m(\u001b[0m\u001b[0mself\u001b[0m\u001b[1;33m.\u001b[0m\u001b[0mkwargs\u001b[0m\u001b[1;33m[\u001b[0m\u001b[1;34m'val_acc'\u001b[0m\u001b[1;33m]\u001b[0m\u001b[1;33m)\u001b[0m\u001b[1;33m+\u001b[0m\u001b[1;34m\".h5\"\u001b[0m\u001b[1;33m)\u001b[0m\u001b[1;33m\u001b[0m\u001b[0m\n\u001b[0m\u001b[0;32m     22\u001b[0m             \u001b[0mmodel\u001b[0m\u001b[1;33m.\u001b[0m\u001b[0msave\u001b[0m\u001b[1;33m(\u001b[0m\u001b[0mfile_path\u001b[0m\u001b[1;33m)\u001b[0m\u001b[1;33m\u001b[0m\u001b[0m\n\u001b[0;32m     23\u001b[0m             \u001b[1;32mwith\u001b[0m \u001b[0mopen\u001b[0m\u001b[1;33m(\u001b[0m\u001b[0mfile_path\u001b[0m\u001b[1;33m,\u001b[0m \u001b[1;34m\"rb\"\u001b[0m\u001b[1;33m)\u001b[0m \u001b[1;32mas\u001b[0m \u001b[0mmodel\u001b[0m\u001b[1;33m:\u001b[0m\u001b[1;33m\u001b[0m\u001b[0m\n",
      "\u001b[1;31mKeyError\u001b[0m: 'val_loss'"
     ]
    }
   ],
   "source": [
    "retina = retinaNN()\n",
    "print(len(retina.X_train))\n",
    "print(len(retina.X_val))\n",
    "print(len(retina.X_test))\n",
    "\n",
    "\n",
    "history = retina.train()"
   ]
  },
  {
   "cell_type": "code",
   "execution_count": 9,
   "metadata": {},
   "outputs": [
    {
     "data": {
      "image/png": "[encoded data removed]",
      "text/plain": [
       "<matplotlib.figure.Figure at 0x17985cb6e80>"
      ]
     },
     "metadata": {},
     "output_type": "display_data"
    }
   ],
   "source": [
    "import matplotlib.pyplot as plt\n",
    "# x = np.arange(50)\n",
    "# plt.plot(x,history.history['precision'])\n",
    "# plt.plot(x,history.history['val_precision'])\n",
    "# #plt.plot(x,accf)\n",
    "# #plt.plot(x,val_accf)\n",
    "# plt.title('model precision')\n",
    "# plt.ylabel('accuracy')\n",
    "# plt.xlabel('epoch')\n",
    "# plt.legend(['train', 'test'], loc='upper left')\n",
    "# plt.show()\n",
    "\n",
    "# plt.plot(history.history['recall'])\n",
    "# plt.plot(history.history['val_recall'])\n",
    "# #plt.plot(x,lossf)\n",
    "# #plt.plot(x,val_lossf)\n",
    "# plt.title('model recall')\n",
    "# plt.ylabel('loss')\n",
    "# plt.xlabel('epoch')\n",
    "# plt.legend(['train', 'test'], loc='upper left')\n",
    "# plt.show()\n",
    "\n",
    "plt.plot(history.history['f1_score'])\n",
    "plt.plot(history.history['val_f1_score'])\n",
    "#plt.plot(x,lossf)\n",
    "#plt.plot(x,val_lossf)\n",
    "plt.title('model F1-measure')\n",
    "plt.ylabel('F1-measure')\n",
    "plt.xlabel('epoch')\n",
    "plt.legend(['train', 'val'], loc='upper left')\n",
    "plt.savefig('f1.png')\n",
    "plt.show()"
   ]
  },
  {
   "cell_type": "code",
   "execution_count": 9,
   "metadata": {},
   "outputs": [
    {
     "name": "stdout",
     "output_type": "stream",
     "text": [
      "1000\n"
     ]
    },
    {
     "name": "stderr",
     "output_type": "stream",
     "text": [
      "C:\\Users\\adam\\AppData\\Local\\conda\\conda\\envs\\inz_retina\\lib\\site-packages\\ipykernel_launcher.py:20: RuntimeWarning: invalid value encountered in double_scalars\n",
      "C:\\Users\\adam\\AppData\\Local\\conda\\conda\\envs\\inz_retina\\lib\\site-packages\\ipykernel_launcher.py:21: RuntimeWarning: invalid value encountered in double_scalars\n",
      "C:\\Users\\adam\\AppData\\Local\\conda\\conda\\envs\\inz_retina\\lib\\site-packages\\sklearn\\metrics\\ranking.py:571: UndefinedMetricWarning: No positive samples in y_true, true positive value should be meaningless\n",
      "  UndefinedMetricWarning)\n"
     ]
    },
    {
     "name": "stdout",
     "output_type": "stream",
     "text": [
      "('obraz', 'af')\n",
      "[0.0015284059, 0.00095213379, 0.0011568349, 0.0012679219, 0.0018305772, 0.0012892634, 0.00036176163, 0.00088529947, 0.00047969879, 0.0010362257, 0.0012700993, 0.0016114913, 0.002658356, 0.0005858182, 0.0071210074, 0.0020504368, 0.0023201185, 0.0021736126, 0.0011718679, 0.0012390445, 0.0028608006, 0.0020574182, 0.00085474056, 0.0013347002, 0.0012474392, 0.0017630988, 0.0016411062, 0.0017903114, 0.011506232, 0.0011362978, 0.003275539, 0.0020785662, 0.0011402076, 0.0012889192, 0.0022184902, 0.001451392, 0.0029212811, 0.0013703398, 0.0015917869, 0.00059577532, 0.00078359508, 0.001188971, 0.001232125, 0.0021453546, 0.0035711166, 0.00038130485, 0.0013135218, 0.00063573569, 0.0018676926, 0.0016145537, 0.0011215832, 0.00045838297, 0.0014545608, 0.00076854834, 0.0018867635, 0.0018776059, 0.00066577527]\n",
      "[0, 0, 0, 0, 0, 0, 0, 0, 0, 0, 0, 0, 0, 0, 0, 0, 0, 0, 0, 0, 0, 0, 0, 0, 0, 0, 0, 0, 0, 0, 1, 0, 0, 0, 0, 0, 0, 0, 0, 0, 0, 0, 0, 0, 0, 0, 0, 0, 0, 0, 0, 0, 0, 0, 0, 0, 0]\n",
      "('wskazany', 'uzupełnienie')\n",
      "[0.0014856829, 0.00055615255, 0.0021424992, 0.0014555497, 0.0016236043, 0.00055036379, 0.0020322395, 0.00079860061, 0.00084972603, 0.00095602573, 0.0010670507, 0.00054090848, 0.0012292648, 0.00071943767, 0.003001841, 0.0010288443, 0.0025690566, 0.00059270585, 0.0010104332, 0.00067557633, 0.001063472, 0.001101805, 0.0009984225, 0.0017492645, 0.00081765582, 0.0008211013, 0.0022116238, 0.0034565257, 0.001053897, 0.00089584192, 0.0013382441, 0.00074502168, 0.00086687942, 0.0012646992, 0.00048954727, 0.00074164901, 0.0011791318, 0.0017766909, 0.0019733761, 0.00065225386, 0.0018798361, 0.00466329, 0.0012267303, 0.0010708885, 0.0010064987, 0.0025249142, 0.00068285386, 0.00079819147, 0.0010281784, 0.001963435, 0.00079199823, 0.0010087534, 0.0026631439, 0.00097190175, 0.0010406004, 0.00060319901, 0.00063436589]\n",
      "[0, 0, 0, 0, 0, 0, 0, 0, 0, 0, 0, 0, 0, 0, 0, 0, 0, 0, 0, 0, 0, 0, 0, 0, 0, 0, 0, 0, 0, 0, 0, 0, 0, 0, 0, 0, 0, 0, 0, 0, 0, 0, 0, 0, 0, 1, 0, 0, 0, 0, 0, 0, 0, 0, 0, 0, 0]\n",
      "('uzupełnienie', 'diagnostyk')\n",
      "[0.00099011196, 0.00073403178, 0.0013941426, 0.0012928956, 0.00123454, 0.00068001298, 0.0018553596, 0.00086387625, 0.00073120481, 0.00099269336, 0.0010251018, 0.00061087596, 0.0010154226, 0.00083668402, 0.0029779703, 0.00092138501, 0.0015616306, 0.00048192986, 0.00089067518, 0.000931555, 0.0012082738, 0.0011922431, 0.0010920422, 0.0010132432, 0.00080386177, 0.0010739337, 0.0016103809, 0.0024182422, 0.0010575816, 0.0011410862, 0.0012101578, 0.00081809756, 0.00070515048, 0.00097599142, 0.00074390619, 0.00082537322, 0.0011242968, 0.0013102883, 0.0019157875, 0.00088602124, 0.0013760416, 0.004248668, 0.0011908434, 0.0010234494, 0.0010520244, 0.0020078265, 0.00092453603, 0.0007718936, 0.00082118495, 0.0014373788, 0.00067673024, 0.0011540106, 0.0025432648, 0.00084876036, 0.0010444347, 0.0006958078, 0.00073159242]\n",
      "[0, 0, 0, 0, 0, 0, 0, 0, 0, 0, 0, 0, 0, 0, 0, 0, 0, 0, 0, 0, 0, 0, 0, 0, 0, 0, 0, 0, 0, 0, 0, 0, 0, 0, 0, 0, 0, 0, 0, 0, 0, 0, 0, 0, 0, 1, 0, 0, 0, 0, 0, 0, 0, 0, 0, 0, 0]\n",
      "('faza', 'żylny')\n",
      "[0.0012432103, 0.0015910709, 0.0014960953, 0.001085918, 0.0015303624, 0.00084354117, 0.0014979354, 0.0012269291, 0.00081508223, 0.0013560515, 0.0023299686, 0.0012887482, 0.0025762659, 0.0027573383, 0.0011041958, 0.0043733511, 0.0011827248, 0.0013168313, 0.0023061794, 0.0038849257, 0.0012723372, 0.002659444, 0.00098203286, 0.00080016145, 0.00072592101, 0.0025444825, 0.0020243404, 0.0017372041, 0.0041466542, 0.0015463402, 0.0039159376, 0.0026326464, 0.0016345169, 0.00095111743, 0.0016521824, 0.001102544, 0.0013384987, 0.0012635681, 0.0045406376, 0.0019304169, 0.0020247824, 0.00373831, 0.00078941055, 0.0016517559, 0.0017392625, 0.0013151054, 0.001561073, 0.00081546261, 0.0013576701, 0.0013450508, 0.00054522575, 0.00058722147, 0.001253782, 0.00041989709, 0.0015465426, 0.00069091591, 0.0013156923]\n",
      "[0, 0, 0, 0, 0, 0, 0, 0, 0, 0, 0, 0, 0, 0, 0, 0, 0, 0, 0, 0, 0, 0, 0, 0, 0, 0, 0, 0, 0, 0, 0, 1, 0, 0, 0, 0, 0, 0, 1, 0, 0, 0, 0, 0, 0, 0, 0, 0, 0, 0, 0, 0, 0, 0, 0, 0, 0]\n",
      "('faza', 'tętniczy')\n",
      "[0.0005161491, 0.00092799641, 0.0016310952, 0.0032637944, 0.0018748161, 0.0014135991, 0.0013085194, 0.00078819011, 0.0011109315, 0.0012037426, 0.0014203768, 0.0008621029, 0.00092775992, 0.0013346869, 0.0018535368, 0.00098905538, 0.00073765853, 0.0010041924, 0.0055473093, 0.00070818595, 0.0016608365, 0.0012543624, 0.0015622519, 0.0011252846, 0.00090923737, 0.00092741079, 0.00072825287, 0.00046007594, 0.0015408364, 0.0010744568, 0.0013353282, 0.000697212, 0.0013548401, 0.00069301459, 0.00082574348, 0.00097127724, 0.00079237705, 0.001456532, 0.0014374008, 0.00072199228, 0.0012603914, 0.0013300412, 0.0011652198, 0.00092927885, 0.00079513306, 0.0012782827, 0.0010314164, 0.0010057738, 0.00091896107, 0.0011189491, 0.0012404391, 0.0014783489, 0.00082384801, 0.0011182667, 0.00092317373, 0.00062912953, 0.00058411271]\n",
      "[0, 0, 0, 0, 0, 0, 0, 0, 0, 0, 0, 0, 0, 0, 0, 0, 0, 0, 0, 0, 1, 0, 0, 0, 0, 0, 0, 0, 0, 0, 0, 0, 0, 0, 0, 0, 0, 0, 0, 0, 0, 0, 0, 0, 0, 0, 0, 0, 0, 0, 0, 0, 0, 0, 0, 0, 0]\n",
      "('widoczny', 'obszar')\n",
      "[0.0008171036, 0.00077665888, 0.0013935367, 0.00088303635, 0.0010222342, 0.00076856825, 0.0007617551, 0.0011165194, 0.0010390789, 0.0011988222, 0.0011407434, 0.0014749622, 0.0010246984, 0.0015057351, 0.00068430271, 0.0013644618, 0.00073720177, 0.0017089556, 0.00082377443, 0.0014734622, 0.00095334282, 0.00074127485, 0.001432794, 0.0013399046, 0.0012184517, 0.0012454645, 0.0011085059, 0.00087682175, 0.00078900682, 0.00094969716, 0.00095755764, 0.00070477941, 0.00086679554, 0.00098328036, 0.0013206891, 0.00067448569, 0.0010318176, 0.0008604062, 0.0011799099, 0.00098737504, 0.0020093643, 0.00054648053, 0.0018506085, 0.0015630694, 0.0019224082, 0.0012860999, 0.0008545405, 0.00097027485, 0.0012777756, 0.001080711, 0.00097879546, 0.0015000247, 0.00099239964, 0.00071215443, 0.0015670592, 0.00087030593, 0.001587047]\n",
      "[0, 0, 0, 0, 0, 0, 0, 0, 0, 0, 0, 0, 0, 0, 0, 0, 0, 0, 0, 0, 0, 0, 0, 1, 0, 0, 0, 0, 0, 0, 0, 0, 0, 0, 0, 0, 0, 0, 0, 0, 0, 0, 1, 0, 1, 0, 0, 0, 0, 0, 0, 0, 0, 0, 0, 0, 0]\n",
      "('przeciek', 'okołonaczyniowe')\n",
      "[0.00051059562, 0.00039070268, 0.00034126148, 0.00050030852, 0.00051713706, 0.00043855372, 0.00065619504, 0.00056747411, 0.00098607724, 0.00067170564, 0.000480883, 0.0010804023, 0.00069519394, 0.0010174317, 0.00041112438, 0.0007109851, 0.0004795648, 0.00077227922, 0.00057355571, 0.00067793927, 0.00039632438, 0.00040260333, 0.00072863413, 0.00052515918, 0.00054278789, 0.00067377079, 0.00091924524, 0.00050490448, 0.00041646996, 0.001315604, 0.00089408312, 0.000680578, 0.00079942174, 0.00067235518, 0.0007379069, 0.00058632152, 0.00044074177, 0.00074426207, 0.00060493307, 0.00095808081, 0.00060867571, 0.00041674764, 0.00058619713, 0.0018946569, 0.00098757783, 0.00048615638, 0.00082849432, 0.00054544775, 0.00043475028, 0.00060377689, 0.00039852047, 0.00075823918, 0.00037093356, 0.00037502029, 0.00084774813, 0.00038613682, 0.00087699707]\n",
      "[0, 0, 0, 0, 0, 0, 0, 0, 0, 0, 0, 1, 0, 0, 0, 0, 0, 0, 0, 0, 0, 0, 0, 0, 0, 0, 0, 0, 0, 1, 0, 0, 1, 0, 0, 0, 0, 0, 0, 0, 0, 0, 0, 0, 0, 0, 0, 0, 0, 0, 0, 0, 0, 0, 0, 0, 0]\n",
      "('plamka', 'wskazany')\n",
      "[0.00082889514, 0.00093901914, 0.00085546984, 0.0013064631, 0.0010389874, 0.00072410278, 0.0011081696, 0.00064122147, 0.0005478661, 0.0010700079, 0.00058580225, 0.0008971612, 0.00052725169, 0.00077346258, 0.0010358433, 0.00057355146, 0.00056559622, 0.0014964375, 0.0016268059, 0.00069094537, 0.00036443869, 0.00076232082, 0.00065412547, 0.0007578067, 0.0010459984, 0.00074508291, 0.00084887544, 0.0013668827, 0.00087565352, 0.00074453547, 0.00071016554, 0.0015166096, 0.00084556569, 0.00063833839, 0.00097046728, 0.0010660109, 0.0008266904, 0.00067305617, 0.00075329375, 0.00041755513, 0.00080753019, 0.0054994216, 0.00098179339, 0.00072927249, 0.0006119227, 0.0014734019, 0.00051999034, 0.00084044033, 0.00069933158, 0.0016490576, 0.00091533922, 0.00060653151, 0.00062370737, 0.00057784299, 0.00042315267, 0.00044069512, 0.002121727]\n",
      "[0, 0, 0, 0, 0, 0, 0, 0, 0, 0, 0, 0, 0, 0, 0, 0, 0, 0, 0, 0, 0, 0, 0, 0, 0, 0, 0, 0, 0, 0, 0, 0, 0, 0, 0, 0, 0, 0, 0, 0, 0, 0, 0, 0, 0, 0, 0, 0, 0, 1, 0, 0, 0, 0, 0, 0, 0]\n",
      "('dochodzić', 'plamka')\n",
      "[0.00027560885, 0.0027143408, 0.00076368853, 0.0030007404, 0.00065648608, 0.0013011761, 0.00054636184, 0.0012578071, 0.00091560086, 0.001038585, 0.00075471483, 0.00083306036, 0.00051673863, 0.00082553085, 0.00043739658, 0.00053669198, 0.00043709626, 0.00049167575, 0.0054686111, 0.00052270811, 0.00058376708, 0.00056794664, 0.0009024539, 0.00054411154, 0.00098038127, 0.0007767413, 0.00059295632, 0.0004621878, 0.00064748642, 0.0007815804, 0.00034976457, 0.00044258614, 0.0026758129, 0.00077533943, 0.00077936199, 0.0026178653, 0.0003004403, 0.00055650785, 0.00075028185, 0.00071593112, 0.00072237075, 0.00057637627, 0.00056445703, 0.00050949422, 0.00091628294, 0.0006730209, 0.00088264869, 0.0014141365, 0.00061398413, 0.0012485548, 0.00080633338, 0.001798544, 0.00072970171, 0.001229567, 0.0007916243, 0.0006971141, 0.00067280041]\n",
      "[0, 1, 0, 0, 0, 0, 0, 0, 0, 0, 0, 0, 0, 0, 0, 0, 0, 0, 0, 0, 0, 0, 0, 0, 0, 0, 0, 0, 0, 0, 0, 0, 0, 0, 0, 0, 0, 0, 0, 0, 0, 0, 0, 0, 0, 0, 0, 0, 0, 0, 0, 0, 0, 0, 0, 0, 0]\n"
     ]
    },
    {
     "name": "stdout",
     "output_type": "stream",
     "text": [
      "('błona', 'neowaskularna')\n",
      "[0.00092572102, 0.00093387457, 0.00048841559, 0.0012649696, 0.00076660165, 0.0006705352, 0.00086389249, 0.00086667557, 0.00077156979, 0.00092533737, 0.0010753917, 0.00099508173, 0.00079028762, 0.00098327, 0.00098748168, 0.0008119499, 0.00078875042, 0.0012212156, 0.0010011228, 0.00076354283, 0.00086124224, 0.0015123745, 0.001176944, 0.00093911489, 0.00099621643, 0.0007514137, 0.00079002004, 0.00084922009, 0.0017341472, 0.0010316891, 0.0010088068, 0.00088213029, 0.0012724504, 0.00098573416, 0.00062194245, 0.0010330629, 0.00098592159, 0.0012092728, 0.0012548716, 0.00094902399, 0.00045251712, 0.0013348489, 0.00055375276, 0.0010670989, 0.00064105773, 0.0008260574, 0.00085486058, 0.00096450804, 0.00073060236, 0.0014239689, 0.0010314245, 0.00066318305, 0.0012529269, 0.0012754002, 0.00066403334, 0.00080276682, 0.0009833643]\n",
      "[0, 0, 0, 0, 0, 0, 0, 0, 0, 0, 0, 0, 0, 0, 0, 0, 0, 0, 0, 0, 0, 0, 0, 0, 0, 0, 0, 0, 0, 0, 0, 0, 0, 0, 0, 0, 0, 0, 0, 0, 0, 1, 0, 0, 0, 0, 0, 0, 0, 0, 0, 0, 0, 0, 0, 0, 0]\n",
      "('początkowy', 'zmiana')\n",
      "[0.00080471538, 0.00063838298, 0.00088594866, 0.00069200009, 0.00096479658, 0.00082011922, 0.00042552926, 0.00095150544, 0.00061352225, 0.0020633712, 0.00069254183, 0.0017813487, 0.00096551212, 0.00075164688, 0.0012769656, 0.0008289679, 0.00098358653, 0.0010375067, 0.0009125559, 0.0011341749, 0.001700658, 0.0010370263, 0.0014173938, 0.001355783, 0.0013035164, 0.0010323673, 0.0010646729, 0.00062291115, 0.0016902098, 0.0010644541, 0.00074965623, 0.0010075012, 0.0014156897, 0.00078964198, 0.0020325838, 0.0017568213, 0.0015239894, 0.00078999612, 0.00072678697, 0.00058474153, 0.00065475784, 0.0014209098, 0.0017298432, 0.001455559, 0.0018645379, 0.0010828953, 0.00094596419, 0.0011116792, 0.00065016234, 0.00052273215, 0.0021119621, 0.0017921391, 0.0013409719, 0.00081098248, 0.001899248, 0.00066538155, 0.00088819652]\n",
      "[0, 0, 0, 0, 0, 0, 0, 0, 0, 0, 0, 0, 0, 0, 0, 0, 0, 0, 0, 0, 0, 0, 0, 0, 0, 0, 0, 0, 0, 0, 0, 0, 0, 0, 1, 0, 0, 0, 0, 0, 0, 0, 0, 0, 0, 0, 0, 0, 0, 0, 0, 0, 0, 0, 0, 0, 0]\n",
      "('siatkówka', 'dochodzić')\n",
      "[0.00056414539, 0.0032272884, 0.0010402668, 0.0023910864, 0.001112434, 0.00090222887, 0.0011557715, 0.0013491304, 0.0016349442, 0.0011528123, 0.00089213089, 0.00096000708, 0.00070652395, 0.00083659822, 0.00087485783, 0.00066503783, 0.00090257113, 0.0008042914, 0.004185874, 0.00098089431, 0.0012498646, 0.0010336366, 0.0014401131, 0.0012981092, 0.00083389436, 0.0010350177, 0.00082309853, 0.0010692446, 0.00075061299, 0.0014407339, 0.00052449375, 0.0004975659, 0.0025365914, 0.00072109076, 0.00077914365, 0.0024152687, 0.00043747012, 0.00070488098, 0.00083892536, 0.00093553605, 0.0008142328, 0.0013706606, 0.00058275607, 0.00092343905, 0.0015212776, 0.00057589915, 0.0011059673, 0.0010752544, 0.00089837267, 0.0013707435, 0.0014460902, 0.0040032198, 0.0016598689, 0.0026142101, 0.0012191248, 0.0015452341, 0.00075368595]\n",
      "[0, 1, 0, 0, 0, 0, 0, 0, 0, 0, 0, 0, 0, 0, 0, 0, 0, 0, 0, 0, 0, 0, 0, 0, 0, 0, 0, 0, 0, 0, 0, 0, 0, 0, 0, 0, 0, 0, 0, 0, 0, 0, 0, 0, 0, 0, 0, 0, 0, 0, 0, 0, 0, 0, 0, 0, 0]\n",
      "('rozległy', 'hipofluorescencja')\n",
      "[0.00033172741, 0.0020757252, 0.00034260849, 0.0011913831, 0.0011119384, 0.00044061293, 0.00038877071, 0.00071751192, 0.00064503076, 0.0010267108, 0.00073757843, 0.00070044812, 0.00082890043, 0.00056120183, 0.00059209164, 0.00085290655, 0.00059191894, 0.00086623844, 0.0011780855, 0.00041286487, 0.00093080761, 0.00082277076, 0.0007833112, 0.00057249755, 0.00064518239, 0.00077892526, 0.00060773949, 0.00043664101, 0.00068354502, 0.00038504877, 0.00064659619, 0.00087505096, 0.0010497418, 0.00092867186, 0.0010152378, 0.00058365817, 0.00046469629, 0.00074081472, 0.00089971907, 0.00053336431, 0.00042731053, 0.00096302852, 0.00081465405, 0.00084100396, 0.00090526807, 0.0015209848, 0.00060857832, 0.0014185455, 0.00080861052, 0.0015195757, 0.00046223178, 0.00050688855, 0.00051191647, 0.00066493527, 0.00064462214, 0.0009666562, 0.00063241558]\n",
      "[0, 1, 0, 0, 0, 0, 0, 0, 0, 0, 0, 0, 0, 0, 0, 0, 0, 0, 0, 0, 0, 0, 0, 0, 0, 0, 0, 0, 0, 0, 0, 0, 0, 0, 0, 0, 0, 0, 0, 0, 0, 0, 0, 0, 0, 0, 0, 0, 0, 0, 0, 0, 0, 0, 0, 0, 0]\n",
      "('obrzęk', 'obraz')\n",
      "[0.00056649779, 0.00061446568, 0.00057662674, 0.00063894346, 0.00042146188, 0.00042259152, 0.00068699772, 0.00096300495, 0.00099039637, 0.00083297607, 0.00083777891, 0.00065173145, 0.00062924053, 0.00055526284, 0.0005136549, 0.00074869447, 0.00074164715, 0.00051353039, 0.00058780186, 0.0010994453, 0.00059052231, 0.00070354709, 0.00082416617, 0.0007457367, 0.00079385191, 0.00047022226, 0.00080856954, 0.00066115055, 0.00057959772, 0.0004306511, 0.00066256552, 0.00070685853, 0.0007303101, 0.0008985278, 0.00066817517, 0.00067326502, 0.00054409815, 0.00074210297, 0.00087597343, 0.00054681662, 0.00041836279, 0.00061671186, 0.00080196263, 0.00064130465, 0.0007501652, 0.00073436217, 0.0005772938, 0.0010071645, 0.00074915722, 0.00063205586, 0.00045991328, 0.00038446824, 0.00068624265, 0.0014237717, 0.0008011618, 0.00054016046, 0.00043232949]\n",
      "[0, 0, 0, 0, 0, 0, 0, 0, 0, 0, 0, 0, 0, 0, 0, 0, 0, 0, 0, 1, 0, 0, 0, 0, 0, 0, 0, 0, 0, 0, 0, 0, 0, 0, 0, 0, 0, 0, 0, 0, 0, 0, 0, 0, 0, 0, 0, 0, 0, 0, 0, 0, 0, 0, 0, 0, 0]\n",
      "('światło', 'czerwona')\n",
      "[0.001373745, 0.00085682148, 0.0024946763, 0.0010278071, 0.0016645666, 0.00088096404, 0.00062127993, 0.0009449416, 0.0013871072, 0.0016073642, 0.0012878414, 0.0017327364, 0.0012543087, 0.0012982956, 0.0012435056, 0.0019865234, 0.00062160724, 0.0027506903, 0.00043058809, 0.0012831731, 0.0016645907, 0.0010201156, 0.0013984512, 0.0017125395, 0.0011861403, 0.0013110699, 0.0021619962, 0.0025545363, 0.00059729605, 0.0012663811, 0.00090118806, 0.0010071427, 0.0011946938, 0.00087949057, 0.001957221, 0.00083411532, 0.0013575685, 0.0015983836, 0.0011449149, 0.00094849488, 0.0022476222, 0.0025691432, 0.001434284, 0.0013727226, 0.0023131026, 0.0024203712, 0.00082600786, 0.0012963886, 0.0019884047, 0.0018153444, 0.00089284446, 0.0013192121, 0.0015004217, 0.00055741821, 0.0016355896, 0.0011586195, 0.0019898615]\n",
      "[0, 0, 0, 0, 0, 0, 0, 0, 0, 0, 0, 0, 0, 0, 0, 0, 0, 0, 0, 0, 0, 0, 0, 0, 0, 0, 0, 1, 0, 0, 0, 0, 0, 0, 0, 0, 0, 0, 0, 0, 0, 0, 0, 0, 0, 0, 0, 0, 0, 0, 0, 0, 0, 0, 0, 0, 0]\n",
      "('obecność', 'klasyczny')\n",
      "[0.00046512258, 0.00070334424, 0.00078605948, 0.00039434637, 0.00058917014, 0.00055472401, 0.00075341598, 0.00096517528, 0.00061197311, 0.00084651425, 0.00062117493, 0.0014025782, 0.00082342641, 0.00059629045, 0.00056443963, 0.0006773278, 0.00068927114, 0.00080087478, 0.00062899239, 0.0010636238, 0.00059354957, 0.00046945224, 0.00066457532, 0.000389427, 0.00062214158, 0.0015927079, 0.00078056968, 0.00055434217, 0.00049253332, 0.00072217791, 0.0012673866, 0.00080904271, 0.00068711245, 0.00075380516, 0.0008906055, 0.00049614895, 0.00079359708, 0.00071031548, 0.00053328811, 0.00091629149, 0.00095720752, 0.00041524167, 0.0011589369, 0.00094749546, 0.00076832651, 0.00077684142, 0.00091601355, 0.00082804932, 0.0012865505, 0.00039426101, 0.00062313798, 0.00045318954, 0.00074286712, 0.00027767764, 0.00082474173, 0.00089603208, 0.00055085326]\n",
      "[0, 0, 0, 0, 0, 0, 0, 0, 0, 0, 0, 0, 0, 0, 0, 0, 0, 0, 0, 0, 0, 0, 0, 0, 0, 0, 0, 0, 0, 0, 1, 0, 0, 0, 0, 0, 0, 0, 0, 0, 0, 0, 0, 0, 0, 0, 0, 0, 0, 0, 0, 0, 0, 0, 0, 0, 0]\n",
      "('ognisko', 'laseroterapia')\n",
      "[0.0013306632, 0.0007698008, 0.0015327102, 0.00076341891, 0.0012020814, 0.0011295818, 0.0015011659, 0.00073383737, 0.00069126557, 0.00087673712, 0.0010825696, 0.00085181982, 0.00076896616, 0.00096022908, 0.0012165041, 0.00087932084, 0.0011179015, 0.0010199654, 0.0010830479, 0.00089013053, 0.00077942538, 0.0014514216, 0.00071928807, 0.00087242213, 0.0010701927, 0.00081485446, 0.0012612597, 0.0010152376, 0.00085620541, 0.0009545412, 0.00073888298, 0.00084420625, 0.0010102612, 0.0011612118, 0.00088900211, 0.00075862446, 0.0010892492, 0.00094528246, 0.00087752024, 0.00077721075, 0.0011694658, 0.0011825562, 0.0014157709, 0.0016300865, 0.00077559502, 0.00072548765, 0.00053538551, 0.0011085776, 0.0009821495, 0.0009377377, 0.0010436374, 0.00085255009, 0.0011598843, 0.0016680983, 0.00083632959, 0.00063965633, 0.0010307458]\n",
      "[0, 0, 0, 0, 0, 0, 0, 0, 0, 0, 0, 0, 0, 0, 0, 0, 0, 0, 0, 0, 0, 0, 0, 0, 0, 0, 0, 0, 0, 0, 0, 0, 0, 0, 0, 0, 0, 0, 0, 0, 0, 0, 1, 0, 0, 0, 0, 0, 0, 0, 0, 0, 0, 0, 0, 0, 0]\n",
      "('naczyniówka', 'wskazany')\n",
      "[0.0014511439, 0.00090147468, 0.0017114126, 0.0017804992, 0.0015069564, 0.00096314383, 0.00082251109, 0.00089355785, 0.0011552033, 0.0018497867, 0.00066964485, 0.001220973, 0.00083535194, 0.00061357574, 0.0016698403, 0.0010703319, 0.00046248586, 0.0015249575, 0.0006638011, 0.00084841083, 0.0015042518, 0.0011598821, 0.001367542, 0.00088922045, 0.0009540157, 0.00077631796, 0.0019154497, 0.0019472912, 0.00082235533, 0.0009123644, 0.00065493159, 0.00092740532, 0.0015439219, 0.00089865946, 0.0016100249, 0.0013843338, 0.0010474093, 0.0016022136, 0.00085201091, 0.00062518893, 0.0012912242, 0.0045271767, 0.00058642728, 0.00075962464, 0.00098170189, 0.0018550077, 0.00067129242, 0.0011900925, 0.0014926895, 0.0025981469, 0.0006745031, 0.00073359493, 0.0019950643, 0.00057684199, 0.00091368431, 0.00098612637, 0.00097456994]\n",
      "[0, 0, 0, 0, 0, 0, 0, 0, 0, 0, 0, 0, 0, 0, 0, 0, 0, 0, 0, 0, 0, 0, 0, 0, 0, 0, 0, 1, 0, 0, 0, 0, 0, 0, 0, 0, 0, 0, 0, 0, 0, 0, 0, 0, 0, 0, 0, 0, 0, 0, 0, 0, 0, 0, 0, 0, 0]\n",
      "('wzmóc', 'krętość')\n",
      "[0.00046027292, 0.00060084183, 0.00054976187, 0.00080125919, 0.00052394334, 0.0005190607, 0.00068855897, 0.00073220977, 0.0011173206, 0.00081737031, 0.00066887401, 0.00070418307, 0.00065530982, 0.00072896085, 0.0004958497, 0.00077854603, 0.00059044547, 0.00063184852, 0.00081023632, 0.00087340688, 0.00058720825, 0.00064430141, 0.00073833752, 0.00082573318, 0.00072189193, 0.0005744996, 0.00078748039, 0.0007898357, 0.00053799892, 0.00052502134, 0.00069333782, 0.00056426931, 0.00071232556, 0.00098479341, 0.00064136396, 0.00093983021, 0.00056799303, 0.00079335237, 0.00077932276, 0.00066807645, 0.00055198732, 0.00071217399, 0.00082155567, 0.00078405888, 0.00077674066, 0.0007386948, 0.00053122931, 0.0010791204, 0.00062989088, 0.00068091956, 0.00064297888, 0.00060588942, 0.00054811995, 0.00080919469, 0.00072470767, 0.00060344714, 0.00050235243]\n",
      "[0, 0, 0, 0, 0, 0, 0, 0, 0, 0, 0, 0, 0, 0, 0, 0, 0, 0, 0, 1, 0, 0, 0, 0, 0, 0, 0, 0, 0, 0, 0, 0, 0, 0, 0, 0, 0, 0, 0, 0, 0, 0, 0, 0, 0, 0, 0, 0, 0, 0, 0, 0, 0, 0, 0, 0, 0]\n",
      "('wysiękowy', 'postać')\n",
      "[0.00059296621, 0.00059509231, 0.00049123517, 0.00077134295, 0.00055577687, 0.00050158554, 0.00073050539, 0.00092133251, 0.0010167072, 0.0008758707, 0.00092235976, 0.00068178889, 0.00070928247, 0.00091480452, 0.00041723411, 0.00074650021, 0.0006912463, 0.00074060803, 0.00080502563, 0.00092963385, 0.00072794635, 0.00061739306, 0.00079415471, 0.00064316613, 0.00089876173, 0.00054211088, 0.00092104857, 0.0006896446, 0.0007100997, 0.00046040025, 0.00077595667, 0.00054878701, 0.0007237742, 0.00096216734, 0.00053872226, 0.00083521078, 0.00062146183, 0.00070920441, 0.00068551628, 0.00068942539, 0.00058546447, 0.00078539271, 0.00067187857, 0.0010222772, 0.00095910078, 0.00087657402, 0.00051101367, 0.0010183458, 0.00087003165, 0.000888346, 0.00058653735, 0.00057134434, 0.00077590195, 0.0011470516, 0.0006140531, 0.00067509484, 0.00049391319]\n",
      "[0, 0, 0, 0, 0, 0, 0, 0, 1, 0, 0, 0, 0, 0, 0, 0, 0, 0, 0, 0, 0, 0, 0, 0, 0, 0, 0, 0, 0, 0, 0, 0, 0, 0, 0, 0, 0, 0, 0, 0, 0, 0, 0, 0, 0, 0, 0, 0, 0, 0, 0, 0, 0, 0, 0, 0, 0]\n"
     ]
    },
    {
     "name": "stdout",
     "output_type": "stream",
     "text": [
      "('przebieg', 'wysiękowy')\n",
      "[0.00052790245, 0.00079761294, 0.00055606355, 0.00082351372, 0.0006001463, 0.00046861431, 0.000937782, 0.001046379, 0.0011218777, 0.0010569936, 0.00084879267, 0.0007821591, 0.00076324417, 0.00087257527, 0.00048156132, 0.0009011635, 0.00073353783, 0.00061862444, 0.00076530833, 0.0011943526, 0.00076817197, 0.00077321951, 0.0008821435, 0.00089942868, 0.00083059369, 0.0005307055, 0.0009611962, 0.00083162659, 0.00059725222, 0.00048147741, 0.00074393768, 0.00070733967, 0.00089012343, 0.0011321624, 0.00069471536, 0.00079389353, 0.00059466023, 0.00084325537, 0.00087739545, 0.00070506311, 0.00047029246, 0.00077967637, 0.00095505023, 0.00078057661, 0.00092269521, 0.0010904752, 0.00057257945, 0.0012482564, 0.00090934528, 0.00082281063, 0.00064221077, 0.00045852741, 0.00069329649, 0.0013973549, 0.00084645645, 0.0006575961, 0.00049211469]\n",
      "[0, 0, 0, 0, 0, 0, 0, 0, 1, 0, 0, 0, 0, 0, 0, 0, 0, 0, 0, 0, 0, 0, 0, 0, 0, 0, 0, 0, 0, 0, 0, 0, 0, 0, 0, 0, 0, 0, 0, 0, 0, 0, 0, 0, 0, 0, 0, 0, 0, 0, 0, 0, 0, 0, 0, 0, 0]\n",
      "('zlokalizować', 'okołodołkowo')\n",
      "[0.00011034315, 0.00018646364, 0.00019089508, 0.00035874936, 0.00019959082, 0.0002978541, 0.00025217052, 0.00046115878, 0.00051655568, 0.00036182863, 0.00036401287, 0.00044062143, 0.00034566183, 0.00047452972, 0.00017830273, 0.0003957994, 0.00020378576, 0.00024999687, 0.00051531527, 0.00035793628, 0.00033842408, 0.00018364814, 0.00034639731, 0.00020185411, 0.00033444425, 0.00033546874, 0.00039961789, 0.00026698029, 0.00025263059, 0.00021056643, 0.00041187592, 0.00030130032, 0.00041521344, 0.00035579613, 0.00038999377, 0.00042597792, 0.00020457583, 0.00027047531, 0.00037949465, 0.00040634564, 0.00024274527, 0.00032175099, 0.00030988196, 0.00041010647, 0.00031051511, 0.00031193899, 0.00029559256, 0.0005372694, 0.00028586559, 0.00030228356, 0.00027196985, 0.00018094393, 0.00023254554, 0.00019058555, 0.00040126155, 0.00030296249, 0.00027758008]\n",
      "[0, 0, 0, 0, 0, 0, 0, 0, 0, 0, 0, 0, 0, 1, 0, 0, 0, 0, 0, 0, 0, 0, 0, 0, 0, 0, 0, 0, 0, 0, 0, 0, 0, 0, 0, 0, 0, 0, 0, 0, 0, 0, 0, 0, 0, 0, 0, 0, 0, 0, 0, 0, 0, 0, 0, 0, 0]\n",
      "0.490642571904\n"
     ]
    }
   ],
   "source": [
    "from sklearn.metrics import roc_curve, auc\n",
    "\n",
    "def change_y_to_words(y,index,y_t):\n",
    "    hdf5_file = h5py.File(retina.path_to_data, 'r')\n",
    "    n_gram = hdf5_file.attrs['n_gram']\n",
    "    print(tuple(n_gram[index]))\n",
    "    print(y)\n",
    "    print(y_t)\n",
    "    predicted_words = []\n",
    "#     for i in range(len(y)):\n",
    "#         if y[i] > 0.90:\n",
    "#             #print(index)\n",
    "#             predicted_words.append(tuple(n_gram[i]))\n",
    "    return predicted_words\n",
    "\n",
    "def get_model_quality(y_true,y_pred):\n",
    "    c1 = sum(np.around(y_true*y_pred)) #TP\n",
    "    c2 = sum(np.around(y_pred))\n",
    "    c3 = sum(np.around(y_true))\n",
    "    precision = c1/c2\n",
    "    recall = c1 / c3\n",
    "    f1_score = 2 * (precision * recall) / (precision + recall)\n",
    "    return precision, recall, f1_score\n",
    "\n",
    "w = len(retina.Y_test[0])\n",
    "h = retina.Y_test.shape[0]\n",
    "pred_y = [[0 for i in range(h)] for j in range(w)]\n",
    "true_y = [[0 for i in range(h)] for j in range(w)]\n",
    "print(len(pred_y))\n",
    "def test_model():\n",
    "    for i in range(len(retina.X_test)):\n",
    "        x_test = retina.X_test[i:i+1]\n",
    "        x_test2 = retina.X_test_medic[i:i+1]\n",
    "        y_test = retina.Y_test[i]\n",
    "        y_score = retina.model.predict([x_test,x_test2])\n",
    "        c = []\n",
    "        for j in range(len(y_test)):\n",
    "            true_y[j][i] = y_test[j]\n",
    "            d =0 \n",
    "            if y_score[0][j] > 0.5:\n",
    "                c.append(1)\n",
    "                d = 1\n",
    "            else:\n",
    "                d = 0\n",
    "                c.append(0)\n",
    "            pred_y[j][i] = y_score[0][j]\n",
    "\n",
    "        precision, recall, f1_score = get_model_quality(y_test,y_score[0])\n",
    "    \n",
    "    aucs = []\n",
    "    for i in range(len(pred_y)):\n",
    "        roc_auc = generate_results(true_y[i],pred_y[i],i)\n",
    "        aucs.append(roc_auc)\n",
    "    \n",
    "    print(np.nanmean(aucs))\n",
    "test_model()"
   ]
  },
  {
   "cell_type": "code",
   "execution_count": 5,
   "metadata": {},
   "outputs": [],
   "source": [
    "import matplotlib.pyplot as plt\n",
    "from sklearn.metrics import roc_curve, auc\n",
    "def generate_results(y_test, y_score, i, plot=False):\n",
    "    fpr, tpr, _ = roc_curve(y_test, y_score)\n",
    "    roc_auc = auc(fpr, tpr)\n",
    "    if roc_auc > 0.9:\n",
    "        #print('AUC: %f' % roc_auc)\n",
    "        change_y_to_words(y_score,i,y_test)\n",
    "        #plot = True\n",
    "    if plot:\n",
    "        plt.figure()\n",
    "        plt.plot(fpr, tpr, label='ROC curve (area = %0.2f)' % roc_auc)\n",
    "        plt.plot([0, 1], [0, 1], 'k--')\n",
    "        plt.xlim([0.0, 1.05])\n",
    "        plt.ylim([0.0, 1.05])\n",
    "        plt.xlabel('False Positive Rate')\n",
    "        plt.ylabel('True Positive Rate')\n",
    "        plt.title('Receiver operating characteristic curve')\n",
    "        plt.show()\n",
    "    return roc_auc\n"
   ]
  },
  {
   "cell_type": "code",
   "execution_count": 10,
   "metadata": {},
   "outputs": [
    {
     "ename": "KeyError",
     "evalue": "'Unable to open object (component not found)'",
     "output_type": "error",
     "traceback": [
      "\u001b[1;31m---------------------------------------------------------------------------\u001b[0m",
      "\u001b[1;31mKeyError\u001b[0m                                  Traceback (most recent call last)",
      "\u001b[1;32m<ipython-input-10-bad9856d831a>\u001b[0m in \u001b[0;36m<module>\u001b[1;34m()\u001b[0m\n\u001b[0;32m      1\u001b[0m \u001b[0mf\u001b[0m \u001b[1;33m=\u001b[0m \u001b[0mh5py\u001b[0m\u001b[1;33m.\u001b[0m\u001b[0mFile\u001b[0m\u001b[1;33m(\u001b[0m\u001b[1;34m'./data_s100.hdf5'\u001b[0m\u001b[1;33m,\u001b[0m \u001b[1;34m'r'\u001b[0m\u001b[1;33m)\u001b[0m\u001b[1;33m\u001b[0m\u001b[0m\n\u001b[1;32m----> 2\u001b[1;33m \u001b[1;32mfor\u001b[0m \u001b[0mk\u001b[0m\u001b[1;33m,\u001b[0m \u001b[0mv\u001b[0m \u001b[1;32min\u001b[0m \u001b[0mf\u001b[0m\u001b[1;33m[\u001b[0m\u001b[1;34m'test_data_metadata/27'\u001b[0m\u001b[1;33m]\u001b[0m\u001b[1;33m.\u001b[0m\u001b[0mitems\u001b[0m\u001b[1;33m(\u001b[0m\u001b[1;33m)\u001b[0m\u001b[1;33m:\u001b[0m\u001b[1;33m\u001b[0m\u001b[0m\n\u001b[0m\u001b[0;32m      3\u001b[0m     \u001b[0mprint\u001b[0m\u001b[1;33m(\u001b[0m\u001b[0mk\u001b[0m\u001b[1;33m,\u001b[0m\u001b[0mv\u001b[0m\u001b[1;33m.\u001b[0m\u001b[0mvalue\u001b[0m\u001b[1;33m)\u001b[0m\u001b[1;33m\u001b[0m\u001b[0m\n",
      "\u001b[1;32mh5py\\_objects.pyx\u001b[0m in \u001b[0;36mh5py._objects.with_phil.wrapper\u001b[1;34m()\u001b[0m\n",
      "\u001b[1;32mh5py\\_objects.pyx\u001b[0m in \u001b[0;36mh5py._objects.with_phil.wrapper\u001b[1;34m()\u001b[0m\n",
      "\u001b[1;32m~\\AppData\\Local\\conda\\conda\\envs\\inz_retina\\lib\\site-packages\\h5py\\_hl\\group.py\u001b[0m in \u001b[0;36m__getitem__\u001b[1;34m(self, name)\u001b[0m\n\u001b[0;32m    165\u001b[0m                 \u001b[1;32mraise\u001b[0m \u001b[0mValueError\u001b[0m\u001b[1;33m(\u001b[0m\u001b[1;34m\"Invalid HDF5 object reference\"\u001b[0m\u001b[1;33m)\u001b[0m\u001b[1;33m\u001b[0m\u001b[0m\n\u001b[0;32m    166\u001b[0m         \u001b[1;32melse\u001b[0m\u001b[1;33m:\u001b[0m\u001b[1;33m\u001b[0m\u001b[0m\n\u001b[1;32m--> 167\u001b[1;33m             \u001b[0moid\u001b[0m \u001b[1;33m=\u001b[0m \u001b[0mh5o\u001b[0m\u001b[1;33m.\u001b[0m\u001b[0mopen\u001b[0m\u001b[1;33m(\u001b[0m\u001b[0mself\u001b[0m\u001b[1;33m.\u001b[0m\u001b[0mid\u001b[0m\u001b[1;33m,\u001b[0m \u001b[0mself\u001b[0m\u001b[1;33m.\u001b[0m\u001b[0m_e\u001b[0m\u001b[1;33m(\u001b[0m\u001b[0mname\u001b[0m\u001b[1;33m)\u001b[0m\u001b[1;33m,\u001b[0m \u001b[0mlapl\u001b[0m\u001b[1;33m=\u001b[0m\u001b[0mself\u001b[0m\u001b[1;33m.\u001b[0m\u001b[0m_lapl\u001b[0m\u001b[1;33m)\u001b[0m\u001b[1;33m\u001b[0m\u001b[0m\n\u001b[0m\u001b[0;32m    168\u001b[0m \u001b[1;33m\u001b[0m\u001b[0m\n\u001b[0;32m    169\u001b[0m         \u001b[0motype\u001b[0m \u001b[1;33m=\u001b[0m \u001b[0mh5i\u001b[0m\u001b[1;33m.\u001b[0m\u001b[0mget_type\u001b[0m\u001b[1;33m(\u001b[0m\u001b[0moid\u001b[0m\u001b[1;33m)\u001b[0m\u001b[1;33m\u001b[0m\u001b[0m\n",
      "\u001b[1;32mh5py\\_objects.pyx\u001b[0m in \u001b[0;36mh5py._objects.with_phil.wrapper\u001b[1;34m()\u001b[0m\n",
      "\u001b[1;32mh5py\\_objects.pyx\u001b[0m in \u001b[0;36mh5py._objects.with_phil.wrapper\u001b[1;34m()\u001b[0m\n",
      "\u001b[1;32mh5py\\h5o.pyx\u001b[0m in \u001b[0;36mh5py.h5o.open\u001b[1;34m()\u001b[0m\n",
      "\u001b[1;31mKeyError\u001b[0m: 'Unable to open object (component not found)'"
     ]
    }
   ],
   "source": [
    "f = h5py.File('./data_s100.hdf5', 'r')\n",
    "for k, v in f['test_data_metadata/27'].items():\n",
    "    print(k,v.value)"
   ]
  },
  {
   "cell_type": "code",
   "execution_count": 16,
   "metadata": {},
   "outputs": [
    {
     "name": "stdout",
     "output_type": "stream",
     "text": [
      "ukazować faza mieszany ognisko hipofluorescencja odpowiadać wybroczyna krwotoczki ognisko hiperfluorescencja odpowiadać mikroaneuryzmaty faza późny obrzęk siatkówka masywny wzdłuż arkada torbielowaty dochodzić plamka obwód początkowy zmiana naczyniowy tworzyć strefa awaskularne\n",
      "D_00e72bbf43229b7e7eed9816f658f20c\n"
     ]
    }
   ],
   "source": [
    "import PIL\n",
    "from text_processing.NGramCounter import NGramCounter\n",
    "from text_processing.NGramVectorBuilder import NGramVectorBuilder\n",
    "from data_module.models import Image as Retina_Image\n",
    "from data_module.models import Person, Examination, Description, ImageSeries, ProcessedDescription\n",
    "def get_ngram_vector_builder():\n",
    "    n = 2; outputs = 1000; limit = 0\n",
    "    ngc = NGramCounter()\n",
    "    n_gram = ngc.get_n_gram_histogram(n,limit,outputs)\n",
    "    return NGramVectorBuilder(n_gram), n_gram\n",
    "\n",
    "i = Retina_Image.objects.get(id=2092)\n",
    "img = PIL.Image.open(i.image)\n",
    "#img.show()\n",
    "\n",
    "desc = ProcessedDescription.objects.get(id=7)\n",
    "print(desc.text)\n",
    "iss = ImageSeries.objects.get(id=6)\n",
    "e = iss.examination\n",
    "print(e.person.code_name)\n",
    "nGramVbuild,n_gram = get_ngram_vector_builder()\n",
    "words_vector = nGramVbuild.get_vector(290, 'R')\n",
    "#print(words_vector)\n",
    "#print(n_gram)\n",
    "n_gram = list(dict(n_gram))\n",
    "#print(n_gram)\n",
    "for i in range(len(words_vector)):\n",
    "    if(words_vector[i] == 1):\n",
    "        print(n_gram[i])\n",
    "#print(n_gram)\n",
    "\n",
    "\n"
   ]
  },
  {
   "cell_type": "code",
   "execution_count": 11,
   "metadata": {},
   "outputs": [
    {
     "ename": "KeyError",
     "evalue": "'Unable to open object (component not found)'",
     "output_type": "error",
     "traceback": [
      "\u001b[1;31m---------------------------------------------------------------------------\u001b[0m",
      "\u001b[1;31mKeyError\u001b[0m                                  Traceback (most recent call last)",
      "\u001b[1;32m<ipython-input-11-4839fab5bec0>\u001b[0m in \u001b[0;36m<module>\u001b[1;34m()\u001b[0m\n\u001b[0;32m      1\u001b[0m \u001b[1;32mfor\u001b[0m \u001b[0mi\u001b[0m \u001b[1;32min\u001b[0m \u001b[0mrange\u001b[0m\u001b[1;33m(\u001b[0m\u001b[1;36m0\u001b[0m\u001b[1;33m,\u001b[0m\u001b[1;36m10\u001b[0m\u001b[1;33m)\u001b[0m\u001b[1;33m:\u001b[0m\u001b[1;33m\u001b[0m\u001b[0m\n\u001b[1;32m----> 2\u001b[1;33m     \u001b[0mw\u001b[0m \u001b[1;33m=\u001b[0m \u001b[0mf\u001b[0m\u001b[1;33m[\u001b[0m\u001b[1;34m'train_data_metadata/'\u001b[0m\u001b[1;33m+\u001b[0m\u001b[0mstr\u001b[0m\u001b[1;33m(\u001b[0m\u001b[0mi\u001b[0m\u001b[1;33m)\u001b[0m\u001b[1;33m+\u001b[0m\u001b[1;34m'/series'\u001b[0m\u001b[1;33m]\u001b[0m\u001b[1;33m.\u001b[0m\u001b[0mvalue\u001b[0m\u001b[1;33m\u001b[0m\u001b[0m\n\u001b[0m\u001b[0;32m      3\u001b[0m     \u001b[0ms\u001b[0m \u001b[1;33m=\u001b[0m \u001b[0mf\u001b[0m\u001b[1;33m[\u001b[0m\u001b[1;34m'train_data_metadata/'\u001b[0m\u001b[1;33m+\u001b[0m\u001b[0mstr\u001b[0m\u001b[1;33m(\u001b[0m\u001b[0mi\u001b[0m\u001b[1;33m)\u001b[0m\u001b[1;33m+\u001b[0m\u001b[1;34m'/side'\u001b[0m\u001b[1;33m]\u001b[0m\u001b[1;33m.\u001b[0m\u001b[0mvalue\u001b[0m\u001b[1;33m\u001b[0m\u001b[0m\n\u001b[0;32m      4\u001b[0m     \u001b[0mwords_vector\u001b[0m \u001b[1;33m=\u001b[0m \u001b[0mnGramVbuild\u001b[0m\u001b[1;33m.\u001b[0m\u001b[0mget_vector\u001b[0m\u001b[1;33m(\u001b[0m\u001b[0mw\u001b[0m\u001b[1;33m,\u001b[0m \u001b[0ms\u001b[0m\u001b[1;33m)\u001b[0m\u001b[1;33m\u001b[0m\u001b[0m\n\u001b[0;32m      5\u001b[0m     \u001b[1;32mfor\u001b[0m \u001b[0mj\u001b[0m \u001b[1;32min\u001b[0m \u001b[0mrange\u001b[0m\u001b[1;33m(\u001b[0m\u001b[0mlen\u001b[0m\u001b[1;33m(\u001b[0m\u001b[0mwords_vector\u001b[0m\u001b[1;33m)\u001b[0m\u001b[1;33m)\u001b[0m\u001b[1;33m:\u001b[0m\u001b[1;33m\u001b[0m\u001b[0m\n",
      "\u001b[1;32mh5py\\_objects.pyx\u001b[0m in \u001b[0;36mh5py._objects.with_phil.wrapper\u001b[1;34m()\u001b[0m\n",
      "\u001b[1;32mh5py\\_objects.pyx\u001b[0m in \u001b[0;36mh5py._objects.with_phil.wrapper\u001b[1;34m()\u001b[0m\n",
      "\u001b[1;32m~\\AppData\\Local\\conda\\conda\\envs\\inz_retina\\lib\\site-packages\\h5py\\_hl\\group.py\u001b[0m in \u001b[0;36m__getitem__\u001b[1;34m(self, name)\u001b[0m\n\u001b[0;32m    165\u001b[0m                 \u001b[1;32mraise\u001b[0m \u001b[0mValueError\u001b[0m\u001b[1;33m(\u001b[0m\u001b[1;34m\"Invalid HDF5 object reference\"\u001b[0m\u001b[1;33m)\u001b[0m\u001b[1;33m\u001b[0m\u001b[0m\n\u001b[0;32m    166\u001b[0m         \u001b[1;32melse\u001b[0m\u001b[1;33m:\u001b[0m\u001b[1;33m\u001b[0m\u001b[0m\n\u001b[1;32m--> 167\u001b[1;33m             \u001b[0moid\u001b[0m \u001b[1;33m=\u001b[0m \u001b[0mh5o\u001b[0m\u001b[1;33m.\u001b[0m\u001b[0mopen\u001b[0m\u001b[1;33m(\u001b[0m\u001b[0mself\u001b[0m\u001b[1;33m.\u001b[0m\u001b[0mid\u001b[0m\u001b[1;33m,\u001b[0m \u001b[0mself\u001b[0m\u001b[1;33m.\u001b[0m\u001b[0m_e\u001b[0m\u001b[1;33m(\u001b[0m\u001b[0mname\u001b[0m\u001b[1;33m)\u001b[0m\u001b[1;33m,\u001b[0m \u001b[0mlapl\u001b[0m\u001b[1;33m=\u001b[0m\u001b[0mself\u001b[0m\u001b[1;33m.\u001b[0m\u001b[0m_lapl\u001b[0m\u001b[1;33m)\u001b[0m\u001b[1;33m\u001b[0m\u001b[0m\n\u001b[0m\u001b[0;32m    168\u001b[0m \u001b[1;33m\u001b[0m\u001b[0m\n\u001b[0;32m    169\u001b[0m         \u001b[0motype\u001b[0m \u001b[1;33m=\u001b[0m \u001b[0mh5i\u001b[0m\u001b[1;33m.\u001b[0m\u001b[0mget_type\u001b[0m\u001b[1;33m(\u001b[0m\u001b[0moid\u001b[0m\u001b[1;33m)\u001b[0m\u001b[1;33m\u001b[0m\u001b[0m\n",
      "\u001b[1;32mh5py\\_objects.pyx\u001b[0m in \u001b[0;36mh5py._objects.with_phil.wrapper\u001b[1;34m()\u001b[0m\n",
      "\u001b[1;32mh5py\\_objects.pyx\u001b[0m in \u001b[0;36mh5py._objects.with_phil.wrapper\u001b[1;34m()\u001b[0m\n",
      "\u001b[1;32mh5py\\h5o.pyx\u001b[0m in \u001b[0;36mh5py.h5o.open\u001b[1;34m()\u001b[0m\n",
      "\u001b[1;31mKeyError\u001b[0m: 'Unable to open object (component not found)'"
     ]
    }
   ],
   "source": [
    "for i in range(0,10):\n",
    "    w = f['train_data_metadata/'+str(i)+'/series'].value\n",
    "    s = f['train_data_metadata/'+str(i)+'/side'].value      \n",
    "    words_vector = nGramVbuild.get_vector(w, s)\n",
    "    for j in range(len(words_vector)):\n",
    "        if(words_vector[j] == 1):\n",
    "            print(n_gram[j],i)\n",
    "            \n",
    "print(f['train_data_metadata/1/series'].value)"
   ]
  },
  {
   "cell_type": "code",
   "execution_count": 21,
   "metadata": {},
   "outputs": [],
   "source": [
    "i = Retina_Image.objects.get(id=4379)\n",
    "img = PIL.Image.open(i.image)\n",
    "img.save('i3.png')"
   ]
  },
  {
   "cell_type": "code",
   "execution_count": 17,
   "metadata": {},
   "outputs": [
    {
     "data": {
      "image/png": "[encoded data removed]",
      "text/plain": [
       "<matplotlib.figure.Figure at 0x1bb6a3be0b8>"
      ]
     },
     "metadata": {},
     "output_type": "display_data"
    },
    {
     "data": {
      "text/plain": [
       "0.875"
      ]
     },
     "execution_count": 17,
     "metadata": {},
     "output_type": "execute_result"
    }
   ],
   "source": [
    "ys = [0.8, 0.7,   0.6, 0.4, 0.8]\n",
    "yt = [1,   0,   0,   0,   0]\n",
    "generate_results(yt, ys, 0, plot=True)"
   ]
  },
  {
   "cell_type": "code",
   "execution_count": null,
   "metadata": {},
   "outputs": [],
   "source": []
  }
 ],
 "metadata": {
  "kernelspec": {
   "display_name": "Django Shell-Plus",
   "language": "python",
   "name": "django_extensions"
  },
  "language_info": {
   "codemirror_mode": {
    "name": "ipython",
    "version": 3
   },
   "file_extension": ".py",
   "mimetype": "text/x-python",
   "name": "python",
   "nbconvert_exporter": "python",
   "pygments_lexer": "ipython3",
   "version": "3.6.3"
  }
 },
 "nbformat": 4,
 "nbformat_minor": 2
}
