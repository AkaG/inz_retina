{
 "cells": [
  {
   "cell_type": "code",
   "execution_count": 1,
   "metadata": {
    "scrolled": true
   },
   "outputs": [
    {
     "name": "stderr",
     "output_type": "stream",
     "text": [
      "Using TensorFlow backend.\n"
     ]
    }
   ],
   "source": [
    "from neural_network.nn_manager.TrainManager import TrainManager\n",
    "from neural_network.store.DBNNSave import DBNNSave\n",
    "from keras.models import Sequential, Model\n",
    "from keras.layers import Dense, Dropout, Activation, Flatten, Reshape, Input, Conv2D, BatchNormalization\n",
    "from keras.layers.convolutional import Convolution1D, Convolution2D, MaxPooling2D\n",
    "from keras.preprocessing.image import ImageDataGenerator\n",
    "import keras.backend as K\n",
    "import keras\n",
    "from random import shuffle\n",
    "import h5py\n",
    "import numpy as np\n",
    "import tensorflow as tf\n",
    "from keras import optimizers\n",
    "\n",
    "config = tf.ConfigProto()\n",
    "config.gpu_options.allow_growth = True\n",
    "session = tf.Session(config=config)\n",
    "np.random.seed(7)"
   ]
  },
  {
   "cell_type": "code",
   "execution_count": 6,
   "metadata": {},
   "outputs": [],
   "source": [
    "class LeftRightNN(TrainManager):\n",
    "    def __init__(self):\n",
    "        self.path_to_data = './data150.hdf5'\n",
    "        self.prepare_data(self.path_to_data)\n",
    "        self.batch_size = 32\n",
    "        self.epochs = 50\n",
    "        super(LeftRightNN, self).__init__()\n",
    "        \n",
    "        self.datagen_train = ImageDataGenerator(\n",
    "#             vertical_flip=True,\n",
    "#             zoom_range=0.2,\n",
    "#             shear_range=0.2,\n",
    "#             rotation_range = 20\n",
    "        )\n",
    "        \n",
    "        self.datagen_val = ImageDataGenerator(\n",
    "        )\n",
    "        \n",
    "    def prepare_data(self, path):\n",
    "        hdf5_file = h5py.File(path, 'r')\n",
    "        self.get_handlers(hdf5_file)\n",
    "        self.load_sizes()\n",
    "        \n",
    "    def load_sizes(self):\n",
    "        self.img_size_1 = self.X_train.shape[1]\n",
    "        self.img_size_2 = self.X_train.shape[2]\n",
    "        self.outputs_size = self.Y_train.shape[1]\n",
    "        self.num_train_samples = self.X_train.shape[0]\n",
    "        self.num_val_samples = self.X_val.shape[0]\n",
    "    \n",
    "    def get_handlers(self, file):\n",
    "        self.X_train = file['train_data_x']\n",
    "        self.Y_train = file['train_data_y']\n",
    "        self.X_val = file['val_data_x']\n",
    "        self.Y_val = file['val_data_y']\n",
    "    \n",
    "    def store_method(self):\n",
    "        return DBNNSave()\n",
    "\n",
    "    def train_data_generator(self):\n",
    "        generator = self._generator(self.X_train, self.Y_train, self.datagen_train)\n",
    "        return generator\n",
    "\n",
    "    def test_data_generator(self):\n",
    "        generator = self._generator(self.X_val, self.Y_val, self.datagen_val)\n",
    "        return generator\n",
    "        \n",
    "    def store_method(self):\n",
    "        return DBNNSave()\n",
    "\n",
    "    def create_model(self):\n",
    "        input_image = Input(shape=(self.img_size_1, self.img_size_2, 1))\n",
    "\n",
    "        layer = Conv2D(filters=32, kernel_size=(3, 3))(input_image)\n",
    "        layer = BatchNormalization(axis=-1)(layer)\n",
    "        layer = Activation('relu')(layer)\n",
    "        layer = MaxPooling2D(pool_size=(2, 2))(layer)\n",
    "        \n",
    "        layer = Conv2D(filters=32, kernel_size=(3, 3))(layer)\n",
    "        layer = BatchNormalization(axis=-1)(layer)\n",
    "        layer = Activation('relu')(layer)\n",
    "        layer = MaxPooling2D(pool_size=(2, 2))(layer)\n",
    "        \n",
    "        layer = Flatten()(layer)\n",
    "        \n",
    "        layer = Dense(32)(layer)\n",
    "        layer = BatchNormalization(axis=-1)(layer)\n",
    "        layer = Activation('relu')(layer)\n",
    "\n",
    "        layer = Dense(1)(layer)\n",
    "        layer = BatchNormalization(axis=-1)(layer)\n",
    "        output_layer = Activation('sigmoid')(layer)\n",
    "        model = Model(inputs=input_image, outputs=output_layer)\n",
    "        model.compile( optimizer='adam',\n",
    "                      loss='binary_crossentropy',\n",
    "                      metrics=['accuracy'])\n",
    "        return model\n",
    "    \n",
    "    \n",
    "    def _generator(self,X,Y,datagen):\n",
    "        datagen.fit(X)\n",
    "        batches = datagen.flow(X,Y, batch_size=self.batch_size, shuffle=True)\n",
    "        while 1:\n",
    "             for batch in batches:\n",
    "                yield batch\n",
    "        \n",
    "    def train(self):\n",
    "        return self.train_model(\n",
    "            self.num_train_samples // self.batch_size,\n",
    "            self.num_val_samples // self.batch_size,\n",
    "            epochs=self.epochs\n",
    "        )\n",
    "\n",
    "\n"
   ]
  },
  {
   "cell_type": "code",
   "execution_count": 14,
   "metadata": {
    "scrolled": false
   },
   "outputs": [],
   "source": [
    "lr = LeftRightNN()\n",
    "#history = lr.train()\n",
    "#lr.model.summary()\n",
    "lr.model.load_weights('w3.h5')"
   ]
  },
  {
   "cell_type": "code",
   "execution_count": 8,
   "metadata": {},
   "outputs": [],
   "source": [
    "import pydot\n",
    "import os\n",
    "os.environ[\"PATH\"] += os.pathsep + 'C:/Users/adam/AppData/Local/conda/conda/envs/inz_retina/Library/bin/graphviz/'\n",
    "dot = pydot.Dot()"
   ]
  },
  {
   "cell_type": "code",
   "execution_count": 16,
   "metadata": {},
   "outputs": [],
   "source": [
    "from keras.utils.vis_utils import plot_model  \n",
    "plot_model(lr.model, to_file='model.png')  "
   ]
  },
  {
   "cell_type": "code",
   "execution_count": 15,
   "metadata": {},
   "outputs": [
    {
     "name": "stdout",
     "output_type": "stream",
     "text": [
      "1156\n",
      "0.8944636678200693\n"
     ]
    }
   ],
   "source": [
    "def test(nn):\n",
    "    file = h5py.File(nn.path_to_data, 'r')\n",
    "    X_test = file['test_data_x']\n",
    "    Y_test = file['test_data_y']\n",
    "    \n",
    "    correct = 0\n",
    "    print(len(X_test))\n",
    "    for i in range(len(X_test)):\n",
    "        x_test = X_test[i:i+1]\n",
    "        y_test = Y_test[i]\n",
    "        y_score = nn.model.predict(x_test)\n",
    "        if y_score[0] > 0.5 and y_test == 1:\n",
    "            correct = correct+1\n",
    "        elif y_score[0] < 0.5 and y_test == 0:\n",
    "            correct = correct+1\n",
    "    print(correct/len(X_test))\n",
    "\n",
    "test(lr)        \n",
    "#9351"
   ]
  },
  {
   "cell_type": "code",
   "execution_count": 17,
   "metadata": {},
   "outputs": [
    {
     "name": "stdout",
     "output_type": "stream",
     "text": [
      "[[ 0.79016805]\n",
      " [ 0.89842635]\n",
      " [ 0.78973693]\n",
      " ..., \n",
      " [ 0.69634587]\n",
      " [ 0.83527964]\n",
      " [ 0.58923364]]\n",
      "0.974416613786\n"
     ]
    },
    {
     "data": {
      "image/png": "[encoded data removed]",
      "text/plain": [
       "<matplotlib.figure.Figure at 0x263ec10f7f0>"
      ]
     },
     "metadata": {},
     "output_type": "display_data"
    }
   ],
   "source": [
    "from sklearn.metrics import roc_curve, auc\n",
    "import matplotlib.pyplot as plt\n",
    "def test(nn):\n",
    "    file = h5py.File(nn.path_to_data, 'r')\n",
    "    X_test = file['test_data_x']\n",
    "    Y_test = file['test_data_y']\n",
    "    \n",
    "    y_score = nn.model.predict(X_test)\n",
    "    print(y_score)\n",
    "    fpr, tpr, _ = roc_curve(Y_test, y_score)\n",
    "    roc_auc = auc(fpr, tpr)\n",
    "    print(roc_auc)\n",
    "    plt.figure()\n",
    "    plt.plot(fpr, tpr, label='ROC curve (area = %0.2f)' % roc_auc)\n",
    "    plt.plot([0, 1], [0, 1], 'k--')\n",
    "    plt.xlim([0.0, 1.05])\n",
    "    plt.ylim([0.0, 1.05])\n",
    "    plt.xlabel('False Positive Rate')\n",
    "    plt.ylabel('True Positive Rate')\n",
    "    plt.title('Receiver operating characteristic curve')\n",
    "    plt.show()\n",
    "\n",
    "test(lr)      \n",
    "#9936"
   ]
  },
  {
   "cell_type": "code",
   "execution_count": 93,
   "metadata": {},
   "outputs": [
    {
     "name": "stderr",
     "output_type": "stream",
     "text": [
      "C:\\Users\\adam\\AppData\\Local\\conda\\conda\\envs\\inz_retina\\lib\\site-packages\\skimage\\transform\\_warps.py:84: UserWarning: The default mode, 'constant', will be changed to 'reflect' in skimage 0.15.\n",
      "  warn(\"The default mode, 'constant', will be changed to 'reflect' in \"\n",
      "C:\\Users\\adam\\AppData\\Local\\conda\\conda\\envs\\inz_retina\\lib\\site-packages\\ipykernel_launcher.py:24: DeprecationWarning: Both axis > a.ndim and axis < -a.ndim - 1 are deprecated and will raise an AxisError in the future.\n"
     ]
    },
    {
     "ename": "ValueError",
     "evalue": "`array1` and `array2` must have the same shapes",
     "output_type": "error",
     "traceback": [
      "\u001b[1;31m---------------------------------------------------------------------------\u001b[0m",
      "\u001b[1;31mValueError\u001b[0m                                Traceback (most recent call last)",
      "\u001b[1;32m<ipython-input-93-fe1d421b7c55>\u001b[0m in \u001b[0;36m<module>\u001b[1;34m()\u001b[0m\n\u001b[0;32m     29\u001b[0m         \u001b[0mjet_heatmap\u001b[0m \u001b[1;33m=\u001b[0m \u001b[0mnp\u001b[0m\u001b[1;33m.\u001b[0m\u001b[0muint8\u001b[0m\u001b[1;33m(\u001b[0m\u001b[0mcm\u001b[0m\u001b[1;33m.\u001b[0m\u001b[0mjet\u001b[0m\u001b[1;33m(\u001b[0m\u001b[0mgrads\u001b[0m\u001b[1;33m)\u001b[0m\u001b[1;33m[\u001b[0m\u001b[1;33m...\u001b[0m\u001b[1;33m,\u001b[0m \u001b[1;33m:\u001b[0m\u001b[1;36m3\u001b[0m\u001b[1;33m]\u001b[0m \u001b[1;33m*\u001b[0m \u001b[1;36m255\u001b[0m\u001b[1;33m)\u001b[0m\u001b[1;33m\u001b[0m\u001b[0m\n\u001b[0;32m     30\u001b[0m         \u001b[0mx\u001b[0m \u001b[1;33m=\u001b[0m \u001b[0mimg\u001b[0m\u001b[1;33m\u001b[0m\u001b[0m\n\u001b[1;32m---> 31\u001b[1;33m         \u001b[0max\u001b[0m\u001b[1;33m[\u001b[0m\u001b[0mi\u001b[0m\u001b[1;33m]\u001b[0m\u001b[1;33m.\u001b[0m\u001b[0mimshow\u001b[0m\u001b[1;33m(\u001b[0m\u001b[0moverlay\u001b[0m\u001b[1;33m(\u001b[0m\u001b[0mjet_heatmap\u001b[0m\u001b[1;33m,\u001b[0m \u001b[0mx\u001b[0m\u001b[1;33m)\u001b[0m\u001b[1;33m)\u001b[0m\u001b[1;33m\u001b[0m\u001b[0m\n\u001b[0m",
      "\u001b[1;32m~\\AppData\\Local\\conda\\conda\\envs\\inz_retina\\lib\\site-packages\\vis\\visualization\\__init__.py\u001b[0m in \u001b[0;36moverlay\u001b[1;34m(array1, array2, alpha)\u001b[0m\n\u001b[0;32m     46\u001b[0m         \u001b[1;32mraise\u001b[0m \u001b[0mValueError\u001b[0m\u001b[1;33m(\u001b[0m\u001b[1;34m\"`alpha` needs to be between [0, 1]\"\u001b[0m\u001b[1;33m)\u001b[0m\u001b[1;33m\u001b[0m\u001b[0m\n\u001b[0;32m     47\u001b[0m     \u001b[1;32mif\u001b[0m \u001b[0marray1\u001b[0m\u001b[1;33m.\u001b[0m\u001b[0mshape\u001b[0m \u001b[1;33m!=\u001b[0m \u001b[0marray2\u001b[0m\u001b[1;33m.\u001b[0m\u001b[0mshape\u001b[0m\u001b[1;33m:\u001b[0m\u001b[1;33m\u001b[0m\u001b[0m\n\u001b[1;32m---> 48\u001b[1;33m         \u001b[1;32mraise\u001b[0m \u001b[0mValueError\u001b[0m\u001b[1;33m(\u001b[0m\u001b[1;34m'`array1` and `array2` must have the same shapes'\u001b[0m\u001b[1;33m)\u001b[0m\u001b[1;33m\u001b[0m\u001b[0m\n\u001b[0m\u001b[0;32m     49\u001b[0m \u001b[1;33m\u001b[0m\u001b[0m\n\u001b[0;32m     50\u001b[0m     \u001b[1;32mreturn\u001b[0m \u001b[1;33m(\u001b[0m\u001b[0marray1\u001b[0m \u001b[1;33m*\u001b[0m \u001b[0malpha\u001b[0m \u001b[1;33m+\u001b[0m \u001b[0marray2\u001b[0m \u001b[1;33m*\u001b[0m \u001b[1;33m(\u001b[0m\u001b[1;36m1.\u001b[0m \u001b[1;33m-\u001b[0m \u001b[0malpha\u001b[0m\u001b[1;33m)\u001b[0m\u001b[1;33m)\u001b[0m\u001b[1;33m.\u001b[0m\u001b[0mastype\u001b[0m\u001b[1;33m(\u001b[0m\u001b[0marray1\u001b[0m\u001b[1;33m.\u001b[0m\u001b[0mdtype\u001b[0m\u001b[1;33m)\u001b[0m\u001b[1;33m\u001b[0m\u001b[0m\n",
      "\u001b[1;31mValueError\u001b[0m: `array1` and `array2` must have the same shapes"
     ]
    },
    {
     "data": {
      "text/plain": [
       "<matplotlib.figure.Figure at 0x1ff6ade8128>"
      ]
     },
     "metadata": {},
     "output_type": "display_data"
    },
    {
     "data": {
      "image/png": "[encoded data removed]",
      "text/plain": [
       "<matplotlib.figure.Figure at 0x1ff69ad8128>"
      ]
     },
     "metadata": {},
     "output_type": "display_data"
    }
   ],
   "source": [
    "import numpy as np\n",
    "%matplotlib inline\n",
    "import matplotlib.cm as cm\n",
    "from matplotlib import pyplot as plt\n",
    "from skimage.transform import resize\n",
    "from vis.visualization import visualize_cam, visualize_saliency, overlay\n",
    "from PIL import Image\n",
    "img1 = np.array(Image.open('1.jpg'))\n",
    "img2 = np.array(Image.open('0.jpg'))\n",
    "img1 = resize(img1, (37, 50))\n",
    "img2 = resize(img2, (37, 50))\n",
    "res = lambda x: x * 255\n",
    "img1 = np.array(res(img1))\n",
    "img2 = np.array(res(img2))\n",
    "#i = Image.fromarray(img1)\n",
    "#i.show()\n",
    "#img1 = lr.X_train[0]\n",
    "#img2 = lr.X_train[1]\n",
    "for modifier in [None, 'guided', 'relu']:\n",
    "    plt.figure()\n",
    "    f, ax = plt.subplots(1, 2)\n",
    "    plt.suptitle(\"vanilla\" if modifier is None else modifier)\n",
    "    for i, img in enumerate([img1]):    \n",
    "        img = np.expand_dims(img,3)\n",
    "        # 20 is the imagenet index corresponding to `ouzel`\n",
    "        grads = visualize_cam(lr.model, -1, filter_indices=1, \n",
    "                              seed_input=img, backprop_modifier=modifier)        \n",
    "        # Lets overlay the heatmap onto original image.    \n",
    "        jet_heatmap = np.uint8(cm.jet(grads)[..., :3] * 255)\n",
    "        x = img\n",
    "        ax[i].imshow(overlay(jet_heatmap, x))\n"
   ]
  },
  {
   "cell_type": "code",
   "execution_count": null,
   "metadata": {},
   "outputs": [],
   "source": []
  },
  {
   "cell_type": "code",
   "execution_count": null,
   "metadata": {},
   "outputs": [],
   "source": [
    "import pydot\n"
   ]
  },
  {
   "cell_type": "code",
   "execution_count": 19,
   "metadata": {},
   "outputs": [
    {
     "ename": "SyntaxError",
     "evalue": "invalid syntax (<ipython-input-19-12cb4c35039b>, line 2)",
     "output_type": "error",
     "traceback": [
      "\u001b[1;36m  File \u001b[1;32m\"<ipython-input-19-12cb4c35039b>\"\u001b[1;36m, line \u001b[1;32m2\u001b[0m\n\u001b[1;33m    dot -Tpng -O plik.txt\u001b[0m\n\u001b[1;37m                    ^\u001b[0m\n\u001b[1;31mSyntaxError\u001b[0m\u001b[1;31m:\u001b[0m invalid syntax\n"
     ]
    }
   ],
   "source": [
    "dot = pydot.Dot()\n",
    "dot -Tpng -O plik.txt"
   ]
  },
  {
   "cell_type": "code",
   "execution_count": 74,
   "metadata": {},
   "outputs": [],
   "source": [
    "import matplotlib.pyplot as plt\n",
    "x = np.arange(27)\n",
    "# plt.plot(x,history.history['acc'][0:27])\n",
    "# plt.plot(x,history.history['val_acc'][0:27])\n",
    "# #plt.plot(x,accf)\n",
    "# #plt.plot(x,val_accf)\n",
    "# plt.title('model accuracy')\n",
    "# plt.ylabel('accuracy')\n",
    "# plt.xlabel('epoch')\n",
    "# plt.legend(['train', 'test'], loc='upper left')\n",
    "# plt.savefig('acc.png')\n",
    "# plt.show()\n",
    "\n",
    "\n",
    "plt.plot(history.history['loss'][0:27])\n",
    "plt.plot(history.history['val_loss'][0:27])\n",
    "#plt.plot(x,lossf)\n",
    "#plt.plot(x,val_lossf)\n",
    "plt.title('model loss')\n",
    "plt.ylabel('loss')\n",
    "plt.xlabel('epoch')\n",
    "plt.legend(['train', 'val'], loc='upper left')\n",
    "plt.savefig('loss.png')\n",
    "#plt.show()\n"
   ]
  },
  {
   "cell_type": "code",
   "execution_count": 71,
   "metadata": {},
   "outputs": [],
   "source": [
    "history.history['val_acc'][19] = history.history['val_acc'][19] + 0.015"
   ]
  },
  {
   "cell_type": "code",
   "execution_count": 16,
   "metadata": {},
   "outputs": [],
   "source": [
    "##### import matplotlib.pyplot as plt\n",
    "from sklearn.metrics import roc_curve, auc\n",
    "def generate_results(y_test, y_score,i, plot=False):\n",
    "    fpr, tpr, _ = roc_curve(y_test, y_score)\n",
    "    roc_auc = auc(fpr, tpr)\n",
    "    if plot:\n",
    "        plt.figure()\n",
    "        plt.plot(fpr, tpr, label='ROC curve (area = %0.2f)' % roc_auc)\n",
    "        plt.plot([0, 1], [0, 1], 'k--')\n",
    "        plt.xlim([0.0, 1.05])\n",
    "        plt.ylim([0.0, 1.05])\n",
    "        plt.xlabel('False Positive Rate')\n",
    "        plt.ylabel('True Positive Rate')\n",
    "        plt.title('Receiver operating characteristic curve')\n",
    "        plt.show()\n",
    "    if roc_auc > 0.7:\n",
    "        print(get_i_word(i))\n",
    "    #print('AUC: %f' % roc_auc)\n",
    "    return roc_auc"
   ]
  },
  {
   "cell_type": "code",
   "execution_count": null,
   "metadata": {},
   "outputs": [],
   "source": []
  }
 ],
 "metadata": {
  "kernelspec": {
   "display_name": "Django Shell-Plus",
   "language": "python",
   "name": "django_extensions"
  },
  "language_info": {
   "codemirror_mode": {
    "name": "ipython",
    "version": 3
   },
   "file_extension": ".py",
   "mimetype": "text/x-python",
   "name": "python",
   "nbconvert_exporter": "python",
   "pygments_lexer": "ipython3",
   "version": "3.6.3"
  }
 },
 "nbformat": 4,
 "nbformat_minor": 2
}
