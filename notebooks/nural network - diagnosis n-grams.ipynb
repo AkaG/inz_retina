{
 "cells": [
  {
   "cell_type": "code",
   "execution_count": 1,
   "metadata": {},
   "outputs": [
    {
     "name": "stderr",
     "output_type": "stream",
     "text": [
      "Using TensorFlow backend.\n"
     ]
    }
   ],
   "source": [
    "from neural_network.nn_manager.TrainManager import TrainManager\n",
    "from neural_network.store.DBNNSave import DBNNSave\n",
    "from keras.models import Sequential, Model\n",
    "from keras.layers import Dense, Dropout, Activation, Flatten, Reshape, Input, Conv2D, BatchNormalization\n",
    "from keras.layers.convolutional import Convolution1D, Convolution2D, MaxPooling2D\n",
    "from keras.preprocessing.image import ImageDataGenerator\n",
    "\n",
    "import keras.backend as K\n",
    "from random import shuffle\n",
    "import h5py\n",
    "import numpy as np\n",
    "import tensorflow as tf\n",
    "\n",
    "config = tf.ConfigProto()\n",
    "config.gpu_options.allow_growth = True\n",
    "session = tf.Session(config=config)\n",
    "np.random.seed(7)"
   ]
  },
  {
   "cell_type": "code",
   "execution_count": 2,
   "metadata": {},
   "outputs": [],
   "source": [
    "class retinaNN(TrainManager):\n",
    "    def __init__(self):\n",
    "        self.path_to_data = './data__s100.hdf5'\n",
    "        self.prepare_data(self.path_to_data)\n",
    "        self.batch_size = 10\n",
    "        self.epochs = 10\n",
    "        self.example_images = []\n",
    "        super(retinaNN, self).__init__()\n",
    "        \n",
    "        self.datagen_train = ImageDataGenerator(\n",
    "            vertical_flip=True,\n",
    "            horizontal_flip=True,\n",
    "            zoom_range=0.2,\n",
    "            shear_range=0.2,\n",
    "            rotation_range = 30\n",
    "        )\n",
    "        \n",
    "        self.datagen_val = ImageDataGenerator(\n",
    "        )\n",
    "        \n",
    "    def prepare_data(self, path):\n",
    "        hdf5_file = h5py.File(path, 'r')\n",
    "        self.get_handlers(hdf5_file)\n",
    "        self.load_sizes()\n",
    "        \n",
    "    def load_sizes(self):\n",
    "        self.img_size_1 = self.X_train.shape[1]\n",
    "        self.img_size_2 = self.X_train.shape[2]\n",
    "        self.outputs_size = self.Y_train.shape[1]\n",
    "        self.num_train_samples = self.X_train.shape[0]\n",
    "        self.num_val_samples = self.X_val.shape[0]\n",
    "        self.num_test_samples = self.X_test.shape[0]\n",
    "    \n",
    "    def get_handlers(self, file):\n",
    "        self.X_train = file['train_data_x']\n",
    "        self.Y_train = file['train_data_y']\n",
    "        self.X_val = file['val_data_x']\n",
    "        self.Y_val = file['val_data_y']\n",
    "        self.X_test = file['test_data_x']\n",
    "        self.Y_test = file['test_data_y']\n",
    "    \n",
    "    def store_method(self):\n",
    "        return DBNNSave()\n",
    "\n",
    "    def train_data_generator(self):\n",
    "        generator = self._generator(self.X_train, self.Y_train, self.datagen_train)\n",
    "        return generator\n",
    "\n",
    "    def test_data_generator(self):\n",
    "        generator = self._generator(self.X_val, self.Y_val, self.datagen_val)\n",
    "        return generator\n",
    "\n",
    "    def create_model(self):\n",
    "        input_image = Input(shape=(self.img_size_1, self.img_size_2, 3))\n",
    "\n",
    "        layer = Conv2D(filters=32, kernel_size=(3, 3))(input_image)\n",
    "        layer = BatchNormalization(axis=1)(layer)\n",
    "        layer = Activation('relu')(layer)\n",
    "        layer = MaxPooling2D(pool_size=(2, 2))(layer)\n",
    "        \n",
    "        layer = Conv2D(filters=32, kernel_size=(3, 3))(input_image)\n",
    "        layer = BatchNormalization(axis=1)(layer)\n",
    "        layer = Activation('relu')(layer)\n",
    "        layer = MaxPooling2D(pool_size=(2, 2))(layer)\n",
    "        \n",
    "        layer = Flatten()(layer)\n",
    "        \n",
    "        layer = Dense(self.outputs_size)(layer)\n",
    "        layer = BatchNormalization(axis=1)(layer)\n",
    "        output_layer = Activation('sigmoid')(layer)\n",
    "        model = Model(inputs=input_image, outputs=output_layer)\n",
    "        model.compile( optimizer='adam',\n",
    "                      loss='binary_crossentropy',\n",
    "                      metrics=[self.f1_score, self.precision, self.recall])\n",
    "        return model\n",
    "\n",
    "    def f1_score(self, y_true, y_pred):\n",
    "        c1 = self.get_true_positive(y_true,y_pred)\n",
    "        c2 = self.get_positive_pred(y_pred)\n",
    "        c3 = self.get_positive_true(y_true)\n",
    "\n",
    "        if c3 == 0:\n",
    "            return 0\n",
    "\n",
    "        precision = c1 / c2\n",
    "        recall = c1 / c3\n",
    "        f1_score = 2 * (precision * recall) / (precision + recall)\n",
    "        return f1_score\n",
    "    \n",
    "    def precision(self,y_true,y_pred):\n",
    "        c1 = self.get_true_positive(y_true,y_pred)\n",
    "        c2 = self.get_positive_pred(y_pred)\n",
    "        return c1/c2\n",
    "    \n",
    "    def recall(self,y_true,y_pred):\n",
    "        c1 = self.get_true_positive(y_true,y_pred)\n",
    "        c3 = self.get_positive_true(y_true)\n",
    "        return c1/c3\n",
    "    \n",
    "    def get_true_positive(self,y_true,y_pred):\n",
    "        return K.sum(K.round(K.clip(y_true * y_pred, 0, 1)))\n",
    "    \n",
    "    def get_positive_pred(self,y_pred):\n",
    "        return K.sum(K.round(K.clip(y_pred, 0, 1)))\n",
    "    \n",
    "    def get_positive_true(self,y_true):\n",
    "        return K.sum(K.round(K.clip(y_true, 0, 1)))\n",
    "    \n",
    "    def _generator(self,X,Y,datagen):       \n",
    "        batches = datagen.flow(X,Y, batch_size=self.batch_size, shuffle=True)\n",
    "        while 1:\n",
    "            for batch in batches:\n",
    "                yield batch\n",
    "        \n",
    "    def train(self):\n",
    "        return self.train_model(\n",
    "            self.num_train_samples // self.batch_size,\n",
    "            self.num_val_samples // self.batch_size,\n",
    "            epochs=self.epochs\n",
    "        )"
   ]
  },
  {
   "cell_type": "code",
   "execution_count": 3,
   "metadata": {
    "scrolled": true
   },
   "outputs": [
    {
     "name": "stdout",
     "output_type": "stream",
     "text": [
      "180\n",
      "60\n",
      "57\n",
      "Epoch 1/10\n",
      "18/18 [==============================] - 14s 756ms/step - loss: 0.8029 - f1_score: 0.0290 - precision: 0.0150 - recall: 0.4720 - val_loss: 0.8089 - val_f1_score: 0.0312 - val_precision: 0.0162 - val_recall: 0.4401\n",
      "Epoch 2/10\n",
      "18/18 [==============================] - 11s 586ms/step - loss: 0.7868 - f1_score: 0.0341 - precision: 0.0176 - recall: 0.5529 - val_loss: 0.6426 - val_f1_score: 0.0301 - val_precision: 0.0158 - val_recall: 0.3269\n",
      "Epoch 3/10\n",
      "18/18 [==============================] - 11s 586ms/step - loss: 0.7714 - f1_score: 0.0397 - precision: 0.0205 - recall: 0.6418 - val_loss: 0.5812 - val_f1_score: 0.0261 - val_precision: 0.0138 - val_recall: 0.2542\n",
      "Epoch 4/10\n",
      "18/18 [==============================] - 11s 584ms/step - loss: 0.7557 - f1_score: 0.0442 - precision: 0.0229 - recall: 0.6962 - val_loss: 0.6741 - val_f1_score: 0.0325 - val_precision: 0.0169 - val_recall: 0.4569\n",
      "Epoch 5/10\n",
      "18/18 [==============================] - 11s 589ms/step - loss: 0.7430 - f1_score: 0.0467 - precision: 0.0242 - recall: 0.7323 - val_loss: 0.7048 - val_f1_score: 0.0371 - val_precision: 0.0193 - val_recall: 0.5241\n",
      "Epoch 6/10\n",
      "18/18 [==============================] - 11s 583ms/step - loss: 0.7295 - f1_score: 0.0489 - precision: 0.0253 - recall: 0.7615 - val_loss: 0.7215 - val_f1_score: 0.0370 - val_precision: 0.0191 - val_recall: 0.5853\n",
      "Epoch 7/10\n",
      "18/18 [==============================] - 11s 597ms/step - loss: 0.7173 - f1_score: 0.0509 - precision: 0.0263 - recall: 0.7786 - val_loss: 0.7043 - val_f1_score: 0.0331 - val_precision: 0.0171 - val_recall: 0.4845\n",
      "Epoch 8/10\n",
      "18/18 [==============================] - 11s 588ms/step - loss: 0.7066 - f1_score: 0.0522 - precision: 0.0271 - recall: 0.7805 - val_loss: 0.7669 - val_f1_score: 0.0369 - val_precision: 0.0191 - val_recall: 0.5902\n",
      "Epoch 9/10\n",
      "18/18 [==============================] - 11s 584ms/step - loss: 0.6932 - f1_score: 0.0561 - precision: 0.0291 - recall: 0.8266 - val_loss: 0.7493 - val_f1_score: 0.0353 - val_precision: 0.0182 - val_recall: 0.5410\n",
      "Epoch 10/10\n",
      "18/18 [==============================] - 11s 587ms/step - loss: 0.6830 - f1_score: 0.0556 - precision: 0.0288 - recall: 0.8075 - val_loss: 0.7468 - val_f1_score: 0.0344 - val_precision: 0.0178 - val_recall: 0.5651\n"
     ]
    },
    {
     "ename": "KeyError",
     "evalue": "'val_loss'",
     "output_type": "error",
     "traceback": [
      "\u001b[1;31m---------------------------------------------------------------------------\u001b[0m",
      "\u001b[1;31mKeyError\u001b[0m                                  Traceback (most recent call last)",
      "\u001b[1;32m<ipython-input-3-9c19f1b46fbe>\u001b[0m in \u001b[0;36m<module>\u001b[1;34m()\u001b[0m\n\u001b[0;32m      5\u001b[0m \u001b[1;33m\u001b[0m\u001b[0m\n\u001b[0;32m      6\u001b[0m \u001b[1;33m\u001b[0m\u001b[0m\n\u001b[1;32m----> 7\u001b[1;33m \u001b[0mhistory\u001b[0m \u001b[1;33m=\u001b[0m \u001b[0mretina\u001b[0m\u001b[1;33m.\u001b[0m\u001b[0mtrain\u001b[0m\u001b[1;33m(\u001b[0m\u001b[1;33m)\u001b[0m\u001b[1;33m\u001b[0m\u001b[0m\n\u001b[0m",
      "\u001b[1;32m<ipython-input-2-da5d9beb65f6>\u001b[0m in \u001b[0;36mtrain\u001b[1;34m(self)\u001b[0m\n\u001b[0;32m    117\u001b[0m             \u001b[0mself\u001b[0m\u001b[1;33m.\u001b[0m\u001b[0mnum_train_samples\u001b[0m \u001b[1;33m//\u001b[0m \u001b[0mself\u001b[0m\u001b[1;33m.\u001b[0m\u001b[0mbatch_size\u001b[0m\u001b[1;33m,\u001b[0m\u001b[1;33m\u001b[0m\u001b[0m\n\u001b[0;32m    118\u001b[0m             \u001b[0mself\u001b[0m\u001b[1;33m.\u001b[0m\u001b[0mnum_val_samples\u001b[0m \u001b[1;33m//\u001b[0m \u001b[0mself\u001b[0m\u001b[1;33m.\u001b[0m\u001b[0mbatch_size\u001b[0m\u001b[1;33m,\u001b[0m\u001b[1;33m\u001b[0m\u001b[0m\n\u001b[1;32m--> 119\u001b[1;33m             \u001b[0mepochs\u001b[0m\u001b[1;33m=\u001b[0m\u001b[0mself\u001b[0m\u001b[1;33m.\u001b[0m\u001b[0mepochs\u001b[0m\u001b[1;33m\u001b[0m\u001b[0m\n\u001b[0m\u001b[0;32m    120\u001b[0m         )\n",
      "\u001b[1;32m~\\Projects\\inz_retina\\neural_network\\nn_manager\\TrainManager.py\u001b[0m in \u001b[0;36mtrain_model\u001b[1;34m(self, steps_per_epoch, validation_steps, epochs, save_at_end)\u001b[0m\n\u001b[0;32m     40\u001b[0m \u001b[1;33m\u001b[0m\u001b[0m\n\u001b[0;32m     41\u001b[0m         \u001b[1;32mif\u001b[0m \u001b[0msave_at_end\u001b[0m\u001b[1;33m:\u001b[0m\u001b[1;33m\u001b[0m\u001b[0m\n\u001b[1;32m---> 42\u001b[1;33m             \u001b[0mself\u001b[0m\u001b[1;33m.\u001b[0m\u001b[0mnn_save_class\u001b[0m\u001b[1;33m.\u001b[0m\u001b[0msave\u001b[0m\u001b[1;33m(\u001b[0m\u001b[0mself\u001b[0m\u001b[1;33m.\u001b[0m\u001b[0mmodel\u001b[0m\u001b[1;33m)\u001b[0m\u001b[1;33m\u001b[0m\u001b[0m\n\u001b[0m\u001b[0;32m     43\u001b[0m \u001b[1;33m\u001b[0m\u001b[0m\n\u001b[0;32m     44\u001b[0m         \u001b[1;32mreturn\u001b[0m \u001b[0mhistory\u001b[0m\u001b[1;33m\u001b[0m\u001b[0m\n",
      "\u001b[1;32m~\\Projects\\inz_retina\\neural_network\\store\\AbstractNNSave.py\u001b[0m in \u001b[0;36msave\u001b[1;34m(self, model, **kwargs)\u001b[0m\n\u001b[0;32m      8\u001b[0m     \u001b[1;32mdef\u001b[0m \u001b[0msave\u001b[0m\u001b[1;33m(\u001b[0m\u001b[0mself\u001b[0m\u001b[1;33m,\u001b[0m \u001b[0mmodel\u001b[0m\u001b[1;33m,\u001b[0m \u001b[1;33m**\u001b[0m\u001b[0mkwargs\u001b[0m\u001b[1;33m)\u001b[0m\u001b[1;33m:\u001b[0m\u001b[1;33m\u001b[0m\u001b[0m\n\u001b[0;32m      9\u001b[0m         \u001b[0mself\u001b[0m\u001b[1;33m.\u001b[0m\u001b[0mkwargs\u001b[0m \u001b[1;33m=\u001b[0m \u001b[0mkwargs\u001b[0m\u001b[1;33m\u001b[0m\u001b[0m\n\u001b[1;32m---> 10\u001b[1;33m         \u001b[0mself\u001b[0m\u001b[1;33m.\u001b[0m\u001b[0msave_model\u001b[0m\u001b[1;33m(\u001b[0m\u001b[0mmodel\u001b[0m\u001b[1;33m)\u001b[0m\u001b[1;33m\u001b[0m\u001b[0m\n\u001b[0m\u001b[0;32m     11\u001b[0m         \u001b[0mself\u001b[0m\u001b[1;33m.\u001b[0m\u001b[0msave_weights\u001b[0m\u001b[1;33m(\u001b[0m\u001b[0mmodel\u001b[0m\u001b[1;33m)\u001b[0m\u001b[1;33m\u001b[0m\u001b[0m\n\u001b[0;32m     12\u001b[0m \u001b[1;33m\u001b[0m\u001b[0m\n",
      "\u001b[1;32m~\\Projects\\inz_retina\\neural_network\\store\\DBNNSave.py\u001b[0m in \u001b[0;36msave_model\u001b[1;34m(self, model)\u001b[0m\n\u001b[0;32m     19\u001b[0m     \u001b[1;32mdef\u001b[0m \u001b[0msave_model\u001b[0m\u001b[1;33m(\u001b[0m\u001b[0mself\u001b[0m\u001b[1;33m,\u001b[0m \u001b[0mmodel\u001b[0m\u001b[1;33m)\u001b[0m\u001b[1;33m:\u001b[0m\u001b[1;33m\u001b[0m\u001b[0m\n\u001b[0;32m     20\u001b[0m         \u001b[1;32mwith\u001b[0m \u001b[0mtempfile\u001b[0m\u001b[1;33m.\u001b[0m\u001b[0mTemporaryDirectory\u001b[0m\u001b[1;33m(\u001b[0m\u001b[0mdir\u001b[0m\u001b[1;33m=\u001b[0m\u001b[0msettings\u001b[0m\u001b[1;33m.\u001b[0m\u001b[0mMEDIA_ROOT\u001b[0m\u001b[1;33m)\u001b[0m \u001b[1;32mas\u001b[0m \u001b[0mtemp_dir\u001b[0m\u001b[1;33m:\u001b[0m\u001b[1;33m\u001b[0m\u001b[0m\n\u001b[1;32m---> 21\u001b[1;33m             \u001b[0mfile_path\u001b[0m \u001b[1;33m=\u001b[0m \u001b[0mos\u001b[0m\u001b[1;33m.\u001b[0m\u001b[0mpath\u001b[0m\u001b[1;33m.\u001b[0m\u001b[0mjoin\u001b[0m\u001b[1;33m(\u001b[0m\u001b[0mtemp_dir\u001b[0m\u001b[1;33m,\u001b[0m \u001b[1;34m\"nn_model\"\u001b[0m\u001b[1;33m+\u001b[0m\u001b[0mstr\u001b[0m\u001b[1;33m(\u001b[0m\u001b[0mself\u001b[0m\u001b[1;33m.\u001b[0m\u001b[0mkwargs\u001b[0m\u001b[1;33m[\u001b[0m\u001b[1;34m'val_loss'\u001b[0m\u001b[1;33m]\u001b[0m\u001b[1;33m)\u001b[0m\u001b[1;33m+\u001b[0m\u001b[1;34m'_'\u001b[0m\u001b[1;33m+\u001b[0m\u001b[0mstr\u001b[0m\u001b[1;33m(\u001b[0m\u001b[0mself\u001b[0m\u001b[1;33m.\u001b[0m\u001b[0mkwargs\u001b[0m\u001b[1;33m[\u001b[0m\u001b[1;34m'val_acc'\u001b[0m\u001b[1;33m]\u001b[0m\u001b[1;33m)\u001b[0m\u001b[1;33m+\u001b[0m\u001b[1;34m\".h5\"\u001b[0m\u001b[1;33m)\u001b[0m\u001b[1;33m\u001b[0m\u001b[0m\n\u001b[0m\u001b[0;32m     22\u001b[0m             \u001b[0mmodel\u001b[0m\u001b[1;33m.\u001b[0m\u001b[0msave\u001b[0m\u001b[1;33m(\u001b[0m\u001b[0mfile_path\u001b[0m\u001b[1;33m)\u001b[0m\u001b[1;33m\u001b[0m\u001b[0m\n\u001b[0;32m     23\u001b[0m             \u001b[1;32mwith\u001b[0m \u001b[0mopen\u001b[0m\u001b[1;33m(\u001b[0m\u001b[0mfile_path\u001b[0m\u001b[1;33m,\u001b[0m \u001b[1;34m\"rb\"\u001b[0m\u001b[1;33m)\u001b[0m \u001b[1;32mas\u001b[0m \u001b[0mmodel\u001b[0m\u001b[1;33m:\u001b[0m\u001b[1;33m\u001b[0m\u001b[0m\n",
      "\u001b[1;31mKeyError\u001b[0m: 'val_loss'"
     ]
    }
   ],
   "source": [
    "retina = retinaNN()\n",
    "print(len(retina.X_train))\n",
    "print(len(retina.X_val))\n",
    "print(len(retina.X_test))\n",
    "\n",
    "\n",
    "history = retina.train()"
   ]
  },
  {
   "cell_type": "code",
   "execution_count": 9,
   "metadata": {},
   "outputs": [
    {
     "data": {
      "image/png": "[encoded data removed]",
      "text/plain": [
       "<matplotlib.figure.Figure at 0x17985cb6e80>"
      ]
     },
     "metadata": {},
     "output_type": "display_data"
    }
   ],
   "source": [
    "import matplotlib.pyplot as plt\n",
    "# x = np.arange(50)\n",
    "# plt.plot(x,history.history['precision'])\n",
    "# plt.plot(x,history.history['val_precision'])\n",
    "# #plt.plot(x,accf)\n",
    "# #plt.plot(x,val_accf)\n",
    "# plt.title('model precision')\n",
    "# plt.ylabel('accuracy')\n",
    "# plt.xlabel('epoch')\n",
    "# plt.legend(['train', 'test'], loc='upper left')\n",
    "# plt.show()\n",
    "\n",
    "# plt.plot(history.history['recall'])\n",
    "# plt.plot(history.history['val_recall'])\n",
    "# #plt.plot(x,lossf)\n",
    "# #plt.plot(x,val_lossf)\n",
    "# plt.title('model recall')\n",
    "# plt.ylabel('loss')\n",
    "# plt.xlabel('epoch')\n",
    "# plt.legend(['train', 'test'], loc='upper left')\n",
    "# plt.show()\n",
    "\n",
    "plt.plot(history.history['f1_score'])\n",
    "plt.plot(history.history['val_f1_score'])\n",
    "#plt.plot(x,lossf)\n",
    "#plt.plot(x,val_lossf)\n",
    "plt.title('model F1-measure')\n",
    "plt.ylabel('F1-measure')\n",
    "plt.xlabel('epoch')\n",
    "plt.legend(['train', 'val'], loc='upper left')\n",
    "plt.savefig('f1.png')\n",
    "plt.show()"
   ]
  },
  {
   "cell_type": "code",
   "execution_count": 30,
   "metadata": {},
   "outputs": [
    {
     "name": "stdout",
     "output_type": "stream",
     "text": [
      "1000\n"
     ]
    },
    {
     "name": "stderr",
     "output_type": "stream",
     "text": [
      "C:\\Users\\adam\\AppData\\Local\\conda\\conda\\envs\\inz_retina\\lib\\site-packages\\ipykernel_launcher.py:22: RuntimeWarning: invalid value encountered in double_scalars\n",
      "C:\\Users\\adam\\AppData\\Local\\conda\\conda\\envs\\inz_retina\\lib\\site-packages\\ipykernel_launcher.py:21: RuntimeWarning: invalid value encountered in double_scalars\n",
      "C:\\Users\\adam\\AppData\\Local\\conda\\conda\\envs\\inz_retina\\lib\\site-packages\\sklearn\\metrics\\ranking.py:571: UndefinedMetricWarning: No positive samples in y_true, true positive value should be meaningless\n",
      "  UndefinedMetricWarning)\n"
     ]
    },
    {
     "name": "stdout",
     "output_type": "stream",
     "text": [
      "('wskazany', 'monitorować')\n",
      "[0.5940004, 0.34035036, 0.42426053, 0.69017524, 0.56661743, 0.52000564, 0.48343107, 0.42975429, 0.71800536, 0.74329799, 0.5367133, 0.60477531, 0.79737067, 0.57498348, 0.57177329, 0.72128779, 0.56699777, 0.56526262, 0.36934429, 0.36720723, 0.61187989, 0.5768916, 0.63030505, 0.67207128, 0.41741592, 0.4255859, 0.47874051, 0.63199621, 0.55108672, 0.64653283, 0.47465938, 0.36259726, 0.58017135, 0.51871592, 0.55292016, 0.70640421, 0.55040199, 0.46948171, 0.44776711, 0.8365984, 0.41332155, 0.62504369, 0.5817557, 0.55034983, 0.64128178, 0.62078863, 0.48558602, 0.58774525, 0.40272141, 0.64058262, 0.52086461, 0.53795576, 0.37265846, 0.53663397, 0.36949155, 0.82449299, 0.48656982]\n",
      "[0, 0, 0, 0, 0, 0, 0, 0, 0, 0, 0, 0, 0, 0, 0, 0, 0, 0, 0, 0, 0, 0, 0, 0, 0, 0, 0, 0, 0, 0, 0, 0, 0, 0, 0, 0, 0, 0, 0, 0, 0, 0, 0, 0, 0, 0, 0, 0, 0, 0, 0, 0, 0, 0, 0, 1, 0]\n",
      "('retinopatia', 'cukrzycowy')\n",
      "[0.70659763, 0.55370408, 0.46895003, 0.81577909, 0.33597377, 0.6763643, 0.58943731, 0.58272702, 0.54154384, 0.63878179, 0.83475673, 0.6084404, 0.52191263, 0.6186198, 0.6918121, 0.54615849, 0.66443747, 0.54746681, 0.52220893, 0.7513293, 0.66197759, 0.50044417, 0.64464784, 0.73297262, 0.40711871, 0.75182837, 0.64272225, 0.55568171, 0.65665245, 0.48955607, 0.76461983, 0.67465967, 0.67468727, 0.62614757, 0.59779257, 0.6204446, 0.54650903, 0.59266943, 0.72674417, 0.88044512, 0.74008459, 0.65662986, 0.62670052, 0.73035806, 0.50314939, 0.35134724, 0.68401974, 0.69480783, 0.44683501, 0.67345083, 0.70835119, 0.5531494, 0.73359662, 0.5282138, 0.60118997, 0.78994572, 0.64904565]\n",
      "[0, 0, 0, 1, 0, 0, 0, 0, 0, 0, 0, 0, 0, 0, 0, 0, 0, 0, 0, 0, 0, 0, 0, 0, 0, 0, 0, 0, 0, 0, 0, 0, 0, 0, 0, 0, 0, 0, 0, 0, 0, 0, 0, 0, 0, 0, 0, 0, 0, 0, 0, 0, 0, 0, 0, 0, 0]\n",
      "('wskazany', 'uzupełnienie')\n",
      "[0.28108063, 0.67140353, 0.67072749, 0.53122514, 0.41163614, 0.53386372, 0.85170943, 0.70043218, 0.40856996, 0.62841833, 0.31890413, 0.49244699, 0.34014344, 0.68865883, 0.59355599, 0.60461825, 0.56813747, 0.60154158, 0.63395345, 0.25419623, 0.23387516, 0.33713642, 0.85084659, 0.8244825, 0.51659036, 0.73873734, 0.5259468, 0.61059511, 0.49192464, 0.38143691, 0.45596883, 0.50423926, 0.54629433, 0.45377186, 0.6139698, 0.22239944, 0.31837395, 0.51786631, 0.61328948, 0.56449652, 0.54739815, 0.56619394, 0.41341951, 0.60062027, 0.47445622, 0.37652162, 0.64581215, 0.70121688, 0.83031577, 0.36467636, 0.44871852, 0.68205523, 0.68044329, 0.47279987, 0.65509391, 0.52744365, 0.57075238]\n",
      "[0, 0, 0, 0, 0, 0, 0, 0, 0, 0, 0, 0, 0, 0, 0, 0, 0, 0, 0, 0, 0, 0, 0, 0, 0, 0, 0, 0, 0, 0, 0, 0, 0, 0, 0, 0, 0, 0, 0, 0, 0, 0, 0, 0, 0, 0, 0, 1, 0, 0, 0, 0, 0, 0, 0, 0, 0]\n",
      "('warstwa', 'nabłonek')\n",
      "[0.68641704, 0.46126735, 0.54253227, 0.46694598, 0.40934873, 0.64446729, 0.50213194, 0.62155282, 0.39847046, 0.42284608, 0.56686819, 0.83332926, 0.58319068, 0.46517187, 0.62575883, 0.45060778, 0.57701051, 0.50825876, 0.69746882, 0.51406395, 0.61363822, 0.42105436, 0.4826397, 0.21467488, 0.637986, 0.38394615, 0.37834454, 0.57412004, 0.78879356, 0.69632196, 0.61039132, 0.69183129, 0.613069, 0.42589581, 0.68031442, 0.4057439, 0.34088314, 0.61921471, 0.49090946, 0.56281441, 0.56996244, 0.28584585, 0.56765753, 0.466373, 0.7292614, 0.29128429, 0.40135956, 0.4164983, 0.5204156, 0.44781712, 0.72277194, 0.60538948, 0.36129403, 0.4850243, 0.46408358, 0.58420664, 0.69336617]\n",
      "[0, 0, 0, 0, 0, 0, 0, 0, 0, 0, 0, 0, 0, 0, 0, 0, 0, 0, 0, 0, 0, 0, 0, 0, 0, 0, 0, 0, 0, 0, 0, 1, 0, 0, 0, 0, 0, 0, 0, 0, 0, 0, 0, 0, 1, 0, 0, 0, 0, 0, 0, 0, 0, 0, 0, 0, 0]\n",
      "('obrzęk', 'plamka')\n",
      "[0.28121534, 0.35963395, 0.34863278, 0.20763519, 0.35548571, 0.34236807, 0.39093107, 0.42241913, 0.04289867, 0.043744188, 0.21018909, 0.44406429, 0.36298913, 0.38203588, 0.42606565, 0.38535735, 0.40740672, 0.44796681, 0.50119388, 0.40549773, 0.42038468, 0.39540601, 0.42209417, 0.5153389, 0.38860917, 0.46943042, 0.42172763, 0.49614975, 0.4655109, 0.3905322, 0.38874289, 0.35577247, 0.30828634, 0.45639789, 0.38527706, 0.31017464, 0.27969778, 0.32862625, 0.29992846, 0.093006477, 0.39868429, 0.38335237, 0.16335396, 0.38028115, 0.30953509, 0.32202211, 0.46694005, 0.44868061, 0.54019082, 0.22501187, 0.35467774, 0.45389038, 0.50486594, 0.34793511, 0.58813143, 0.17283174, 0.33129996]\n",
      "[0, 0, 0, 0, 0, 0, 0, 0, 0, 0, 0, 0, 0, 0, 0, 0, 0, 0, 0, 0, 0, 0, 0, 0, 0, 0, 0, 0, 0, 0, 0, 0, 0, 0, 0, 0, 0, 0, 0, 0, 0, 0, 0, 0, 0, 0, 0, 0, 1, 0, 0, 0, 1, 0, 0, 0, 0]\n",
      "('obszar', 'hipofluorescencja')\n",
      "[0.37625608, 0.60320789, 0.49765983, 0.46588883, 0.48272535, 0.37369066, 0.55134147, 0.46403861, 0.6573872, 0.53701228, 0.36980593, 0.45366815, 0.49403828, 0.35684153, 0.41967213, 0.38491562, 0.59689838, 0.41430122, 0.49399227, 0.39798, 0.37263134, 0.48060122, 0.39897093, 0.48211586, 0.68948656, 0.61806738, 0.51455915, 0.57390159, 0.36288008, 0.39741436, 0.23382483, 0.39896509, 0.20476152, 0.51577854, 0.40967378, 0.4765881, 0.49496189, 0.34175992, 0.57784975, 0.5461691, 0.50021636, 0.6818701, 0.69076806, 0.37963349, 0.41856197, 0.58835626, 0.5985474, 0.42217767, 0.6438387, 0.50882584, 0.27303937, 0.43112358, 0.57743275, 0.43644911, 0.66715598, 0.34400508, 0.35274971]\n",
      "[0, 0, 0, 0, 0, 0, 0, 0, 0, 0, 0, 0, 0, 0, 0, 0, 0, 0, 0, 0, 0, 0, 0, 0, 0, 0, 0, 0, 0, 0, 0, 0, 0, 0, 0, 0, 0, 0, 0, 0, 0, 0, 0, 0, 0, 0, 1, 0, 0, 0, 0, 0, 0, 0, 1, 0, 0]\n",
      "('widoczny', 'obszar')\n",
      "[0.5671339, 0.67506188, 0.48398253, 0.70041472, 0.78910577, 0.49159855, 0.50086915, 0.38535738, 0.81958348, 0.61271822, 0.50426757, 0.40288162, 0.60918409, 0.58074009, 0.48917258, 0.70906872, 0.66574889, 0.47306821, 0.31610641, 0.44200468, 0.51538289, 0.39272141, 0.37793934, 0.47641507, 0.32695264, 0.58593309, 0.62731344, 0.64285153, 0.36402431, 0.35888144, 0.27158192, 0.38463479, 0.38619959, 0.62212712, 0.43437004, 0.64213759, 0.53449398, 0.45392168, 0.5413152, 0.64596909, 0.50658691, 0.75053394, 0.60991591, 0.61605233, 0.4865948, 0.57078964, 0.681494, 0.59973097, 0.5161947, 0.67500144, 0.28848913, 0.49779958, 0.58675462, 0.63766754, 0.65832371, 0.37416628, 0.30845892]\n",
      "[0, 0, 0, 1, 0, 0, 0, 0, 0, 0, 0, 0, 0, 0, 0, 0, 0, 0, 0, 0, 0, 0, 0, 0, 0, 0, 0, 0, 0, 0, 0, 0, 0, 0, 0, 0, 0, 0, 0, 0, 0, 0, 0, 0, 0, 0, 1, 0, 0, 0, 0, 0, 0, 0, 1, 0, 0]\n",
      "('okolica', 'plamka')\n",
      "[0.17859088, 0.30018327, 0.40026045, 0.18400323, 0.26746494, 0.28422898, 0.38055468, 0.33582106, 0.087097451, 0.10426333, 0.23954464, 0.3435314, 0.18971629, 0.3303639, 0.38212135, 0.24780026, 0.24775021, 0.40211436, 0.41337997, 0.25257233, 0.23031947, 0.49957883, 0.50378257, 0.20550679, 0.33611432, 0.30251542, 0.30514356, 0.24770306, 0.28385741, 0.42332157, 0.40574464, 0.39926556, 0.35427901, 0.49052423, 0.34051639, 0.077979267, 0.14892614, 0.34913269, 0.26638287, 0.15180494, 0.24891344, 0.22761038, 0.25171089, 0.42790934, 0.25516674, 0.1473224, 0.4486143, 0.36060393, 0.21847846, 0.20601843, 0.49540174, 0.30654517, 0.33778879, 0.1545452, 0.31868383, 0.17208178, 0.46429685]\n",
      "[0, 0, 0, 0, 0, 0, 0, 0, 0, 0, 0, 0, 0, 0, 0, 0, 0, 0, 0, 0, 0, 1, 0, 0, 0, 0, 0, 0, 0, 0, 0, 0, 0, 0, 0, 0, 0, 0, 0, 0, 0, 0, 0, 0, 0, 0, 0, 0, 0, 0, 0, 0, 0, 0, 0, 0, 0]\n",
      "('późny', 'powodować')\n",
      "[0.76533288, 0.52392894, 0.45827737, 0.33814055, 0.73360687, 0.4741804, 0.30890116, 0.34748542, 0.94364738, 0.76362604, 0.55224228, 0.53212458, 0.60582489, 0.36100355, 0.43792629, 0.48866802, 0.50608248, 0.31555018, 0.44252735, 0.32427618, 0.7184189, 0.52746105, 0.2271582, 0.10882714, 0.48188668, 0.27894285, 0.41065037, 0.42183888, 0.49994743, 0.6276986, 0.33302253, 0.55721259, 0.54983741, 0.71933848, 0.53371871, 0.7234183, 0.44110405, 0.46389019, 0.42904991, 0.65519232, 0.32274655, 0.44395238, 0.67380446, 0.31132263, 0.75941229, 0.64114082, 0.39149672, 0.32137427, 0.36182511, 0.69870996, 0.45653382, 0.52374387, 0.20512857, 0.62345386, 0.38628855, 0.33427036, 0.5951277]\n",
      "[1, 0, 0, 0, 0, 0, 0, 0, 0, 0, 0, 0, 0, 0, 0, 0, 0, 0, 0, 0, 1, 0, 0, 0, 0, 0, 0, 0, 0, 0, 0, 0, 0, 0, 0, 0, 0, 0, 0, 0, 0, 0, 0, 0, 0, 0, 0, 0, 0, 0, 0, 0, 0, 0, 0, 0, 0]\n",
      "('oba', 'oko')\n",
      "[0.61464679, 0.57259202, 0.63025576, 0.82520831, 0.45268169, 0.69439518, 0.62319785, 0.56923437, 0.75885403, 0.84465098, 0.77741718, 0.63492346, 0.59696811, 0.65410268, 0.63735926, 0.68501276, 0.65499359, 0.59426469, 0.46222106, 0.54579633, 0.60778618, 0.44046646, 0.66499144, 0.53504235, 0.40533918, 0.57063639, 0.62218291, 0.65623975, 0.63616377, 0.5296278, 0.63550293, 0.59292859, 0.6116482, 0.46349481, 0.63547045, 0.625359, 0.67891914, 0.58330441, 0.65989, 0.91312099, 0.59571922, 0.59205467, 0.69696844, 0.66658562, 0.67324746, 0.4283711, 0.5318327, 0.61668497, 0.48096475, 0.71739781, 0.64218009, 0.58749622, 0.51133561, 0.66951478, 0.50212574, 0.86794025, 0.65741295]\n",
      "[0, 0, 0, 1, 0, 0, 0, 0, 0, 0, 0, 0, 0, 0, 0, 0, 0, 0, 0, 0, 0, 0, 0, 0, 0, 0, 0, 0, 0, 0, 0, 0, 0, 0, 0, 0, 0, 0, 0, 0, 0, 0, 0, 0, 0, 0, 0, 0, 0, 0, 0, 0, 0, 0, 0, 0, 0]\n",
      "('dochodzić', 'plamka')\n",
      "[0.54730624, 0.42280468, 0.25778639, 0.55457443, 0.51253933, 0.28118041, 0.33499297, 0.4074676, 0.73733205, 0.58905017, 0.37188965, 0.41717938, 0.71858424, 0.43100777, 0.39851919, 0.7332201, 0.54014033, 0.56676286, 0.44337162, 0.36492074, 0.525828, 0.41131023, 0.26070797, 0.5203436, 0.36412585, 0.48010638, 0.54173797, 0.33773535, 0.42742196, 0.49037844, 0.31225324, 0.29112735, 0.38323385, 0.67642289, 0.53010017, 0.89666778, 0.67077017, 0.36536112, 0.51137453, 0.47320226, 0.29778653, 0.67564487, 0.51058024, 0.34751618, 0.45132965, 0.71175802, 0.40215039, 0.59557343, 0.40870592, 0.64040053, 0.3914493, 0.54856128, 0.34471858, 0.63921422, 0.50411648, 0.37379974, 0.41455293]\n",
      "[0, 0, 0, 0, 0, 0, 0, 0, 1, 0, 0, 0, 0, 0, 0, 0, 0, 0, 0, 0, 0, 0, 0, 0, 0, 0, 0, 0, 0, 0, 0, 0, 0, 0, 0, 0, 0, 0, 0, 0, 0, 0, 0, 0, 0, 0, 0, 0, 0, 0, 0, 0, 0, 0, 0, 0, 0]\n",
      "('początkowy', 'zmiana')\n",
      "[0.76148099, 0.7697646, 0.64176559, 0.55759597, 0.64790452, 0.61497045, 0.48392928, 0.65751523, 0.77971941, 0.33482718, 0.60588664, 0.74410039, 0.79642272, 0.66953409, 0.63840026, 0.75603497, 0.66625291, 0.83638, 0.75914121, 0.83398211, 0.7775144, 0.73576975, 0.58139002, 0.56789851, 0.62929744, 0.40650129, 0.73323447, 0.50870848, 0.81401181, 0.77977788, 0.69219398, 0.69759357, 0.65752214, 0.73788506, 0.76532704, 0.85786563, 0.85689586, 0.65766823, 0.68943805, 0.41277644, 0.53195179, 0.74952734, 0.72863358, 0.66663033, 0.52069557, 0.71128577, 0.67509115, 0.59450644, 0.52777147, 0.70585811, 0.65698385, 0.71399415, 0.54015619, 0.81577206, 0.73516792, 0.55922955, 0.78412795]\n",
      "[0, 0, 0, 0, 0, 0, 0, 0, 0, 0, 0, 0, 0, 0, 0, 0, 0, 0, 0, 0, 0, 0, 0, 0, 0, 0, 0, 0, 1, 0, 0, 0, 0, 0, 0, 0, 0, 0, 0, 0, 0, 0, 0, 0, 0, 0, 0, 0, 0, 0, 0, 0, 0, 0, 0, 0, 0]\n",
      "('rpe', 'faza')\n",
      "[0.4114846, 0.38992667, 0.31678385, 0.56790364, 0.35455847, 0.55299962, 0.39363444, 0.45946375, 0.32440656, 0.49193993, 0.28950962, 0.69588506, 0.21614526, 0.47727227, 0.67486715, 0.62102324, 0.60180646, 0.54897302, 0.72701663, 0.37628052, 0.22158653, 0.50997925, 0.38784465, 0.28750938, 0.50163025, 0.59279537, 0.52394855, 0.33102795, 0.57489461, 0.45292571, 0.24393357, 0.55745786, 0.6072498, 0.47159213, 0.72130597, 0.32104102, 0.45627001, 0.46142241, 0.58530182, 0.68972182, 0.62838453, 0.49170595, 0.69677401, 0.61724478, 0.41803151, 0.2232275, 0.49789461, 0.36089757, 0.48148748, 0.59169811, 0.64754391, 0.61503899, 0.40737844, 0.4360024, 0.52229929, 0.78159583, 0.72021598]\n",
      "[0, 0, 0, 0, 0, 0, 0, 0, 0, 0, 0, 0, 0, 0, 0, 0, 0, 0, 0, 0, 0, 0, 0, 0, 0, 0, 0, 0, 0, 0, 0, 0, 0, 0, 0, 0, 0, 0, 0, 0, 0, 0, 1, 0, 0, 0, 0, 0, 0, 0, 0, 0, 0, 0, 0, 0, 0]\n"
     ]
    },
    {
     "name": "stdout",
     "output_type": "stream",
     "text": [
      "('obecność', 'zwłóknienie')\n",
      "[0.56455541, 0.38339683, 0.41990721, 0.28398046, 0.52744669, 0.45244792, 0.42607149, 0.42915577, 0.28654504, 0.32421687, 0.48166323, 0.30588809, 0.45644972, 0.34828237, 0.39745829, 0.37096602, 0.43063608, 0.54664296, 0.44413272, 0.44502115, 0.57777369, 0.49720168, 0.3431738, 0.39121336, 0.5044874, 0.30281967, 0.56153077, 0.39809754, 0.31065425, 0.45603415, 0.53536963, 0.50790679, 0.46106508, 0.60293561, 0.50014633, 0.32782331, 0.35591778, 0.46913171, 0.46878931, 0.16536726, 0.32502261, 0.35739866, 0.34791934, 0.40198582, 0.36434993, 0.49359792, 0.52318805, 0.53672123, 0.31082645, 0.3745428, 0.47388339, 0.50313354, 0.42752594, 0.44995657, 0.540214, 0.078670323, 0.5062834]\n",
      "[0, 0, 0, 0, 0, 0, 0, 0, 0, 0, 0, 0, 0, 0, 0, 0, 0, 0, 0, 0, 1, 0, 0, 0, 0, 0, 0, 0, 0, 0, 0, 0, 0, 0, 0, 0, 0, 0, 0, 0, 0, 0, 0, 0, 0, 0, 0, 0, 0, 0, 0, 0, 0, 0, 0, 0, 0]\n",
      "('proliferacyjny', 'retinopatia')\n",
      "[0.65417778, 0.53200072, 0.40827438, 0.8483749, 0.45330763, 0.71950501, 0.57451659, 0.56973147, 0.65225929, 0.73075962, 0.82406336, 0.60663766, 0.51783836, 0.6643092, 0.64888471, 0.60955215, 0.7105273, 0.58238572, 0.48393905, 0.71190548, 0.60353595, 0.55983615, 0.62761724, 0.77591044, 0.42943275, 0.78275746, 0.6996246, 0.61677003, 0.59187955, 0.48539636, 0.6695503, 0.61681062, 0.64641047, 0.60398018, 0.6080305, 0.71637094, 0.63485467, 0.62705511, 0.74211228, 0.89966947, 0.78701234, 0.6694541, 0.68563884, 0.75450504, 0.53291392, 0.4636662, 0.65205336, 0.71814567, 0.51116663, 0.69379103, 0.72536182, 0.55686349, 0.73342395, 0.63892674, 0.62974381, 0.83384067, 0.60902977]\n",
      "[0, 0, 0, 1, 0, 0, 0, 0, 0, 0, 0, 0, 0, 0, 0, 0, 0, 0, 0, 0, 0, 0, 0, 0, 0, 0, 0, 0, 0, 0, 0, 0, 0, 0, 0, 0, 0, 0, 0, 0, 0, 0, 0, 0, 0, 0, 0, 0, 0, 0, 0, 0, 0, 0, 0, 0, 0]\n",
      "('obszar', 'równik')\n",
      "[0.70397514, 0.44106445, 0.4026655, 0.77593338, 0.55455345, 0.70891446, 0.57016152, 0.58572024, 0.65072393, 0.59956807, 0.66714251, 0.58692557, 0.65137136, 0.74303967, 0.63314551, 0.74742854, 0.71708816, 0.52083492, 0.47451451, 0.66561925, 0.48000315, 0.55849022, 0.65454578, 0.59711879, 0.46787545, 0.81067908, 0.5009675, 0.76394659, 0.47165275, 0.40949291, 0.49831295, 0.44275695, 0.62099177, 0.62866503, 0.6280095, 0.79948932, 0.70133358, 0.56716973, 0.7052654, 0.7524386, 0.8695491, 0.59483099, 0.64996356, 0.69242221, 0.50079918, 0.66840851, 0.68781251, 0.71206862, 0.69465971, 0.59208089, 0.65761161, 0.48870429, 0.69434315, 0.6560896, 0.71117079, 0.76632553, 0.43515572]\n",
      "[0, 0, 0, 1, 0, 0, 0, 0, 0, 0, 0, 0, 0, 0, 0, 0, 0, 0, 0, 0, 0, 0, 0, 0, 0, 0, 0, 0, 0, 0, 0, 0, 0, 0, 0, 0, 0, 0, 0, 0, 0, 0, 0, 0, 0, 0, 0, 0, 0, 0, 0, 0, 0, 0, 0, 0, 0]\n",
      "('barwnikowy', 'brak')\n",
      "[0.4264769, 0.39124995, 0.5212751, 0.31427324, 0.39664325, 0.54180044, 0.53819114, 0.48610076, 0.3505432, 0.49031243, 0.41347781, 0.36215362, 0.48593688, 0.42472884, 0.39146897, 0.28715995, 0.4161011, 0.49173647, 0.48735246, 0.39087293, 0.46456152, 0.48236194, 0.40564552, 0.31703869, 0.49246225, 0.40140411, 0.56339514, 0.47095314, 0.31913039, 0.52565521, 0.52139288, 0.57627106, 0.45097581, 0.54236585, 0.52666926, 0.24718814, 0.42269495, 0.47733217, 0.50931197, 0.34708142, 0.41640925, 0.54529178, 0.49438605, 0.42493337, 0.36970159, 0.45571944, 0.50513458, 0.47745997, 0.36534554, 0.34143892, 0.39085615, 0.50569373, 0.49511203, 0.41395289, 0.50889528, 0.08661332, 0.57802123]\n",
      "[0, 0, 0, 0, 0, 0, 0, 0, 0, 0, 0, 0, 0, 0, 0, 0, 0, 0, 0, 0, 0, 0, 0, 0, 0, 0, 0, 0, 0, 0, 0, 1, 0, 0, 0, 0, 0, 0, 0, 0, 0, 0, 0, 0, 0, 0, 0, 0, 0, 0, 0, 0, 0, 0, 0, 0, 0]\n",
      "('hiperfluorescencja', 'otoczyć')\n",
      "[0.52924323, 0.35510829, 0.34537467, 0.23772897, 0.13619319, 0.33984765, 0.29272804, 0.35766119, 0.14328074, 0.27740681, 0.50620562, 0.48449364, 0.26206988, 0.44704348, 0.27637815, 0.24520677, 0.40540707, 0.55122697, 0.47507197, 0.62253904, 0.42235222, 0.48546478, 0.2820372, 0.4443658, 0.39569116, 0.26913565, 0.55482793, 0.41004542, 0.61202633, 0.40429252, 0.57309979, 0.50462258, 0.34464866, 0.23367432, 0.37073809, 0.28113371, 0.73321539, 0.52327007, 0.40298414, 0.27077255, 0.38939106, 0.38840774, 0.44066814, 0.34470749, 0.28298157, 0.44170421, 0.28501868, 0.26728088, 0.43529525, 0.39987317, 0.49990955, 0.34706956, 0.46566322, 0.41072956, 0.39535978, 0.38882136, 0.49668911]\n",
      "[0, 0, 0, 0, 0, 0, 0, 0, 0, 0, 0, 0, 0, 0, 0, 0, 0, 0, 0, 1, 0, 0, 0, 0, 0, 0, 0, 0, 0, 0, 0, 0, 0, 0, 0, 0, 0, 0, 0, 0, 0, 0, 0, 0, 0, 0, 0, 0, 0, 0, 0, 0, 0, 0, 0, 0, 0]\n",
      "('wywołać', 'zcieńczenia')\n",
      "[0.31509259, 0.35913098, 0.32450235, 0.56197554, 0.42308962, 0.55143321, 0.39508525, 0.40885335, 0.3714819, 0.54833382, 0.29438102, 0.63307458, 0.17849571, 0.41700634, 0.58973062, 0.555758, 0.5929516, 0.45447394, 0.65215093, 0.32578719, 0.19643518, 0.46873724, 0.32974356, 0.15703209, 0.42050841, 0.5125556, 0.49664286, 0.29359075, 0.47218361, 0.41813776, 0.20258854, 0.5213272, 0.54278249, 0.52341259, 0.67023551, 0.23048633, 0.37410045, 0.42389828, 0.57037538, 0.71015054, 0.55524367, 0.35490862, 0.66298157, 0.55802476, 0.40009978, 0.16384828, 0.42551535, 0.29652917, 0.42618102, 0.50355357, 0.65283239, 0.55600417, 0.29888126, 0.3744716, 0.47297451, 0.78680229, 0.68077672]\n",
      "[0, 0, 0, 0, 0, 0, 0, 0, 0, 0, 0, 0, 0, 0, 0, 0, 0, 0, 0, 0, 0, 0, 0, 0, 0, 0, 0, 0, 0, 0, 0, 0, 0, 0, 1, 0, 0, 0, 0, 0, 0, 0, 0, 0, 0, 0, 0, 0, 0, 0, 0, 0, 0, 0, 0, 0, 0]\n",
      "('zlokalizować', 'wokół')\n",
      "[0.57769358, 0.55569541, 0.68350589, 0.44398725, 0.49844512, 0.75736445, 0.81657523, 0.71377492, 0.27733341, 0.60351038, 0.669698, 0.70101976, 0.51694036, 0.65533572, 0.66944617, 0.47405833, 0.74367958, 0.56849039, 0.7048465, 0.38296056, 0.75852799, 0.53684753, 0.72362709, 0.762582, 0.72761232, 0.49117047, 0.72125459, 0.74531651, 0.59708172, 0.63804263, 0.66634911, 0.64204693, 0.60096598, 0.62963736, 0.8055023, 0.18867636, 0.24503416, 0.56143862, 0.77476054, 0.73956418, 0.62491578, 0.54779875, 0.73187685, 0.52073777, 0.71929461, 0.27079558, 0.74843067, 0.69256914, 0.56608158, 0.41336003, 0.74096668, 0.7883172, 0.60206819, 0.48571977, 0.77785265, 0.31691891, 0.8398239]\n",
      "[0, 0, 0, 0, 0, 0, 0, 0, 0, 0, 0, 0, 0, 0, 0, 0, 0, 0, 0, 0, 0, 0, 0, 0, 0, 0, 0, 0, 0, 0, 0, 0, 0, 0, 0, 0, 0, 0, 0, 0, 0, 0, 0, 0, 0, 0, 0, 0, 0, 0, 0, 0, 0, 0, 0, 0, 1]\n",
      "('klasyczny', 'neowaskularyzacja')\n",
      "[0.43185252, 0.55385637, 0.42110446, 0.43729705, 0.3067601, 0.47640923, 0.44530976, 0.40968743, 0.26032919, 0.3192291, 0.57755005, 0.44282484, 0.25955701, 0.47765991, 0.36211383, 0.30472463, 0.48956978, 0.4338111, 0.44548121, 0.77065957, 0.32908139, 0.45769846, 0.3658106, 0.39427194, 0.37981239, 0.5105722, 0.4989118, 0.39660835, 0.57096529, 0.34798789, 0.5660221, 0.5439285, 0.41423661, 0.25580859, 0.30947965, 0.35855705, 0.67191583, 0.55895531, 0.44076613, 0.36918053, 0.56782097, 0.36256659, 0.43596119, 0.4746204, 0.23495258, 0.32799977, 0.36658096, 0.281735, 0.46841478, 0.52914405, 0.57858348, 0.27768666, 0.53765786, 0.40883026, 0.40611959, 0.69610673, 0.41752425]\n",
      "[0, 0, 0, 0, 0, 0, 0, 0, 0, 0, 0, 0, 0, 0, 0, 0, 0, 0, 0, 1, 0, 0, 0, 0, 0, 0, 0, 0, 0, 0, 0, 0, 0, 0, 0, 0, 0, 0, 0, 0, 0, 0, 0, 0, 0, 0, 0, 0, 0, 0, 0, 0, 0, 0, 0, 0, 0]\n",
      "('intensywność', 'powodować')\n",
      "[0.41827863, 0.35777906, 0.39814606, 0.56820607, 0.33246341, 0.49585447, 0.38924623, 0.50588036, 0.47704494, 0.68927574, 0.47926462, 0.57164162, 0.22454332, 0.51112747, 0.60879552, 0.54133475, 0.43518552, 0.48914009, 0.63735521, 0.37313396, 0.25782448, 0.41438001, 0.46832153, 0.31647879, 0.42638102, 0.42733428, 0.42850861, 0.37315959, 0.43236136, 0.36186406, 0.31656918, 0.51349866, 0.61170447, 0.51342922, 0.61574841, 0.24497418, 0.45507595, 0.48946959, 0.59318858, 0.71585989, 0.63951737, 0.38802886, 0.60359192, 0.50915593, 0.47974128, 0.21426475, 0.40324011, 0.37253872, 0.46212727, 0.46808237, 0.67866671, 0.53316993, 0.33837464, 0.3423726, 0.33166769, 0.80176669, 0.68877345]\n",
      "[0, 0, 0, 0, 0, 0, 0, 0, 0, 0, 0, 0, 0, 0, 0, 0, 0, 0, 0, 0, 0, 0, 0, 0, 0, 0, 0, 0, 0, 0, 0, 0, 0, 0, 0, 0, 0, 0, 0, 0, 1, 0, 0, 0, 0, 0, 0, 0, 0, 0, 0, 0, 0, 0, 0, 0, 0]\n",
      "('dolny', 'skroniowy')\n",
      "[0.75229573, 0.57590604, 0.42109787, 0.64242846, 0.33320436, 0.39984274, 0.58025539, 0.48688251, 0.73957276, 0.70291883, 0.60111356, 0.74374741, 0.70237446, 0.39787701, 0.53537261, 0.67612529, 0.59562683, 0.58020025, 0.61257875, 0.28835049, 0.73177493, 0.40998355, 0.53423262, 0.27781603, 0.44346324, 0.36460412, 0.36517781, 0.4372094, 0.68055272, 0.55312324, 0.45041469, 0.54332608, 0.40012279, 0.53973269, 0.67859334, 0.18628216, 0.33066005, 0.38821906, 0.65863341, 0.79418612, 0.32008585, 0.70783752, 0.47918814, 0.39124373, 0.5105812, 0.19011103, 0.51043546, 0.52645648, 0.3813715, 0.51636541, 0.49244046, 0.67639667, 0.3274768, 0.38337436, 0.44394401, 0.57571578, 0.74401629]\n",
      "[0, 0, 0, 0, 0, 0, 0, 0, 0, 0, 0, 0, 0, 0, 0, 0, 0, 0, 0, 0, 1, 0, 0, 0, 0, 0, 0, 0, 0, 0, 0, 0, 0, 0, 0, 0, 0, 0, 0, 0, 0, 0, 0, 0, 0, 0, 0, 0, 0, 0, 0, 0, 0, 0, 0, 0, 0]\n",
      "('angiograficzny', 'biegun')\n",
      "[0.49692765, 0.52898926, 0.4878206, 0.23982477, 0.54691976, 0.45703179, 0.51056242, 0.47342274, 0.16070853, 0.19691244, 0.29298651, 0.49519679, 0.49862584, 0.45782128, 0.51359189, 0.47103778, 0.54135513, 0.56397468, 0.54157943, 0.47026691, 0.52424872, 0.48913872, 0.40604457, 0.36462995, 0.57116073, 0.45065734, 0.50814289, 0.51918215, 0.46645468, 0.46657521, 0.46304026, 0.46047077, 0.38336805, 0.58460414, 0.53519684, 0.28379795, 0.36724272, 0.44930148, 0.48092443, 0.16136073, 0.44698611, 0.46594524, 0.42830321, 0.44607779, 0.34033111, 0.46107313, 0.59983313, 0.56689143, 0.54991883, 0.3610557, 0.40128508, 0.57142639, 0.5154016, 0.46432713, 0.67308021, 0.086862028, 0.4828862]\n",
      "[0, 0, 0, 0, 0, 0, 0, 0, 0, 0, 0, 0, 0, 0, 0, 0, 0, 0, 0, 0, 0, 0, 0, 0, 0, 0, 0, 0, 0, 0, 0, 0, 0, 0, 1, 0, 0, 0, 0, 0, 0, 0, 0, 0, 0, 0, 1, 0, 0, 0, 0, 0, 0, 0, 1, 0, 0]\n",
      "('wysiękowy', 'postać')\n",
      "[0.4203915, 0.33177498, 0.38260511, 0.24129979, 0.45026255, 0.39682546, 0.31411979, 0.30731916, 0.5795567, 0.59528673, 0.27131617, 0.43688411, 0.31679949, 0.19764835, 0.29641843, 0.22120643, 0.35648918, 0.12495385, 0.33843848, 0.11564658, 0.40623686, 0.2557607, 0.17187676, 0.033094507, 0.38747194, 0.25170255, 0.2805827, 0.32710555, 0.29796878, 0.36335388, 0.22482738, 0.3852374, 0.30018669, 0.51140839, 0.34711748, 0.20653205, 0.12697561, 0.28011551, 0.33141643, 0.51971865, 0.26243496, 0.19877331, 0.47659773, 0.19846809, 0.54766697, 0.15951826, 0.22492002, 0.1893706, 0.26497915, 0.22189878, 0.34850845, 0.39425653, 0.11299388, 0.25316608, 0.28837654, 0.29424596, 0.4720552]\n",
      "[0, 0, 0, 0, 0, 0, 0, 0, 0, 0, 0, 0, 0, 0, 0, 0, 0, 0, 0, 0, 0, 0, 0, 0, 0, 0, 0, 0, 0, 0, 0, 0, 0, 0, 0, 0, 0, 0, 0, 0, 0, 0, 0, 0, 1, 0, 0, 0, 0, 0, 0, 0, 0, 0, 0, 0, 0]\n",
      "('podsiatkówkowa', 'faza')\n",
      "[0.60995317, 0.56935608, 0.41300568, 0.37513226, 0.28541932, 0.48828968, 0.39696741, 0.3843717, 0.34165451, 0.40607867, 0.71361256, 0.53265655, 0.2901473, 0.47924519, 0.34007064, 0.2785342, 0.42186457, 0.4089236, 0.48675668, 0.67168266, 0.5423885, 0.43060228, 0.37053889, 0.28353062, 0.47315881, 0.34633419, 0.49561003, 0.33051056, 0.62484193, 0.44359583, 0.60026383, 0.57107848, 0.38007918, 0.29577386, 0.38947281, 0.2641817, 0.58710963, 0.54675621, 0.45979232, 0.34045371, 0.53098983, 0.38552347, 0.55757678, 0.33735675, 0.36025009, 0.29141334, 0.33157676, 0.27009821, 0.42280319, 0.56390655, 0.61308897, 0.3998737, 0.404277, 0.43088028, 0.40031362, 0.53066862, 0.54968065]\n",
      "[0, 0, 0, 0, 0, 0, 0, 0, 0, 0, 0, 0, 0, 0, 0, 0, 0, 0, 0, 1, 0, 0, 0, 0, 0, 0, 0, 0, 0, 0, 0, 0, 0, 0, 0, 0, 0, 0, 0, 0, 0, 0, 0, 0, 0, 0, 0, 0, 0, 0, 0, 0, 0, 0, 0, 0, 0]\n",
      "('zakrzep', 'gałązka')\n",
      "[0.64525461, 0.7276085, 0.60675311, 0.72531694, 0.83027804, 0.6053254, 0.63843811, 0.58314848, 0.90852624, 0.70297927, 0.4320564, 0.52842319, 0.72025037, 0.55026197, 0.73041612, 0.7923367, 0.68108511, 0.58685118, 0.64298916, 0.60942411, 0.53023183, 0.5919081, 0.48144245, 0.3372924, 0.56104672, 0.80165398, 0.63154519, 0.69131094, 0.45773739, 0.55895567, 0.29453391, 0.62874961, 0.60212183, 0.79768682, 0.58002788, 0.88825291, 0.72202688, 0.54417628, 0.73882234, 0.68726206, 0.66416365, 0.81709296, 0.69127518, 0.66512668, 0.62759358, 0.74384695, 0.6433751, 0.70861501, 0.67562217, 0.69149661, 0.40000057, 0.61367321, 0.6326617, 0.72580761, 0.68523479, 0.51896721, 0.55757517]\n",
      "[0, 0, 0, 0, 0, 0, 0, 0, 1, 0, 0, 0, 0, 0, 0, 0, 0, 0, 0, 0, 0, 0, 0, 0, 0, 0, 0, 0, 0, 0, 0, 0, 0, 0, 0, 0, 0, 0, 0, 0, 0, 0, 0, 0, 0, 0, 0, 0, 0, 0, 0, 0, 0, 0, 0, 0, 0]\n",
      "('laseroterapia', 'obwód')\n",
      "[0.50676912, 0.35247633, 0.46378464, 0.12116477, 0.42840436, 0.43592393, 0.47526237, 0.40238497, 0.32156214, 0.37265602, 0.26398134, 0.36806646, 0.38931125, 0.20856863, 0.37033606, 0.21009842, 0.45670184, 0.33085039, 0.39585277, 0.30019182, 0.50437427, 0.42792445, 0.21674716, 0.11337563, 0.53476387, 0.34190273, 0.3740828, 0.41631967, 0.34702197, 0.4259674, 0.35337386, 0.49245843, 0.3748953, 0.55636322, 0.46378607, 0.30426043, 0.19467892, 0.30099556, 0.32400426, 0.20778859, 0.26882285, 0.27272832, 0.5059908, 0.28600147, 0.42682624, 0.42575517, 0.41431102, 0.3846232, 0.32636857, 0.35387191, 0.35599512, 0.43378657, 0.24333471, 0.42396119, 0.42676643, 0.037192542, 0.52863961]\n",
      "[0, 0, 0, 0, 0, 0, 0, 0, 0, 0, 0, 0, 0, 0, 0, 0, 0, 0, 0, 0, 0, 0, 0, 0, 1, 0, 0, 0, 0, 0, 0, 0, 0, 0, 0, 0, 0, 0, 0, 0, 0, 0, 0, 0, 0, 0, 0, 0, 0, 0, 0, 0, 0, 0, 0, 0, 0]\n",
      "('światło', 'bezczerwienny')\n",
      "[0.3224009, 0.56760895, 0.49634913, 0.50779331, 0.34656012, 0.49076483, 0.48625907, 0.57458729, 0.52484262, 0.36134541, 0.3107774, 0.67549264, 0.34780532, 0.46052775, 0.44006866, 0.37091935, 0.51259124, 0.38548437, 0.69194514, 0.33776498, 0.24484394, 0.28476483, 0.51065713, 0.099881329, 0.72459304, 0.4800567, 0.331305, 0.50764239, 0.66569102, 0.33209303, 0.242818, 0.44850346, 0.3827056, 0.30178252, 0.45833692, 0.14228229, 0.19899812, 0.39934686, 0.62242341, 0.59583795, 0.57613277, 0.46449044, 0.52696019, 0.4073208, 0.35581961, 0.14986588, 0.34734377, 0.32943112, 0.56265759, 0.4374533, 0.5182333, 0.47268105, 0.3508465, 0.33196941, 0.56403339, 0.43759322, 0.54109347]\n",
      "[0, 0, 0, 0, 0, 0, 0, 0, 0, 0, 0, 0, 0, 0, 0, 0, 0, 0, 0, 0, 0, 0, 0, 0, 0, 0, 0, 0, 0, 0, 0, 0, 0, 0, 0, 0, 0, 0, 1, 0, 0, 0, 0, 0, 0, 0, 0, 0, 0, 0, 0, 0, 0, 0, 0, 0, 0]\n"
     ]
    },
    {
     "name": "stdout",
     "output_type": "stream",
     "text": [
      "0.520623769635\n"
     ]
    }
   ],
   "source": [
    "from sklearn.metrics import roc_curve, auc\n",
    "\n",
    "def change_y_to_words(y,index,y_t):\n",
    "    hdf5_file = h5py.File(retina.path_to_data, 'r')\n",
    "    n_gram = hdf5_file.attrs['n_gram']\n",
    "    print(tuple(n_gram[index]))\n",
    "    print(y)\n",
    "    print(y_t)\n",
    "    predicted_words = []\n",
    "#     for i in range(len(y)):\n",
    "#         if y[i] > 0.90:\n",
    "#             #print(index)\n",
    "#             predicted_words.append(tuple(n_gram[i]))\n",
    "    return predicted_words\n",
    "\n",
    "def get_model_quality(y_true,y_pred):\n",
    "    c1 = sum(np.around(y_true*y_pred)) #TP\n",
    "    c2 = sum(np.around(y_pred))\n",
    "    c3 = sum(np.around(y_true))\n",
    "    precision = c1/c2\n",
    "    recall = c1 / c3\n",
    "    f1_score = 2 * (precision * recall) / (precision + recall)\n",
    "    return precision, recall, f1_score\n",
    "\n",
    "w = len(retina.Y_test[0])\n",
    "h = retina.Y_test.shape[0]\n",
    "pred_y = [[0 for i in range(h)] for j in range(w)]\n",
    "true_y = [[0 for i in range(h)] for j in range(w)]\n",
    "print(len(pred_y))\n",
    "def test_model():\n",
    "    for i in range(len(retina.X_test)):\n",
    "        x_test = retina.X_test[i:i+1]\n",
    "        y_test = retina.Y_test[i]\n",
    "        y_score = retina.model.predict(x_test)\n",
    "        c = []\n",
    "        for j in range(len(y_test)):\n",
    "            true_y[j][i] = y_test[j]\n",
    "            d =0 \n",
    "            if y_score[0][j] > 0.5:\n",
    "                c.append(1)\n",
    "                d = 1\n",
    "            else:\n",
    "                d = 0\n",
    "                c.append(0)\n",
    "            pred_y[j][i] = y_score[0][j]\n",
    "\n",
    "        precision, recall, f1_score = get_model_quality(y_test,y_score[0])\n",
    "    \n",
    "    aucs = []\n",
    "    for i in range(len(pred_y)):\n",
    "        roc_auc = generate_results(true_y[i],pred_y[i],i)\n",
    "        aucs.append(roc_auc)\n",
    "    \n",
    "    print(np.nanmean(aucs))\n",
    "test_model()"
   ]
  },
  {
   "cell_type": "code",
   "execution_count": 19,
   "metadata": {},
   "outputs": [],
   "source": [
    "import matplotlib.pyplot as plt\n",
    "from sklearn.metrics import roc_curve, auc\n",
    "def generate_results(y_test, y_score, i, plot=False):\n",
    "    fpr, tpr, _ = roc_curve(y_test, y_score)\n",
    "    roc_auc = auc(fpr, tpr)\n",
    "    if roc_auc > 0.9:\n",
    "        #print('AUC: %f' % roc_auc)\n",
    "        change_y_to_words(y_score,i,y_test)\n",
    "        #plot = True\n",
    "    if plot:\n",
    "        plt.figure()\n",
    "        plt.plot(fpr, tpr, label='ROC curve (area = %0.2f)' % roc_auc)\n",
    "        plt.plot([0, 1], [0, 1], 'k--')\n",
    "        plt.xlim([0.0, 1.05])\n",
    "        plt.ylim([0.0, 1.05])\n",
    "        plt.xlabel('False Positive Rate')\n",
    "        plt.ylabel('True Positive Rate')\n",
    "        plt.title('Receiver operating characteristic curve')\n",
    "        plt.show()\n",
    "    return roc_auc\n"
   ]
  },
  {
   "cell_type": "code",
   "execution_count": 10,
   "metadata": {},
   "outputs": [
    {
     "ename": "KeyError",
     "evalue": "'Unable to open object (component not found)'",
     "output_type": "error",
     "traceback": [
      "\u001b[1;31m---------------------------------------------------------------------------\u001b[0m",
      "\u001b[1;31mKeyError\u001b[0m                                  Traceback (most recent call last)",
      "\u001b[1;32m<ipython-input-10-bad9856d831a>\u001b[0m in \u001b[0;36m<module>\u001b[1;34m()\u001b[0m\n\u001b[0;32m      1\u001b[0m \u001b[0mf\u001b[0m \u001b[1;33m=\u001b[0m \u001b[0mh5py\u001b[0m\u001b[1;33m.\u001b[0m\u001b[0mFile\u001b[0m\u001b[1;33m(\u001b[0m\u001b[1;34m'./data_s100.hdf5'\u001b[0m\u001b[1;33m,\u001b[0m \u001b[1;34m'r'\u001b[0m\u001b[1;33m)\u001b[0m\u001b[1;33m\u001b[0m\u001b[0m\n\u001b[1;32m----> 2\u001b[1;33m \u001b[1;32mfor\u001b[0m \u001b[0mk\u001b[0m\u001b[1;33m,\u001b[0m \u001b[0mv\u001b[0m \u001b[1;32min\u001b[0m \u001b[0mf\u001b[0m\u001b[1;33m[\u001b[0m\u001b[1;34m'test_data_metadata/27'\u001b[0m\u001b[1;33m]\u001b[0m\u001b[1;33m.\u001b[0m\u001b[0mitems\u001b[0m\u001b[1;33m(\u001b[0m\u001b[1;33m)\u001b[0m\u001b[1;33m:\u001b[0m\u001b[1;33m\u001b[0m\u001b[0m\n\u001b[0m\u001b[0;32m      3\u001b[0m     \u001b[0mprint\u001b[0m\u001b[1;33m(\u001b[0m\u001b[0mk\u001b[0m\u001b[1;33m,\u001b[0m\u001b[0mv\u001b[0m\u001b[1;33m.\u001b[0m\u001b[0mvalue\u001b[0m\u001b[1;33m)\u001b[0m\u001b[1;33m\u001b[0m\u001b[0m\n",
      "\u001b[1;32mh5py\\_objects.pyx\u001b[0m in \u001b[0;36mh5py._objects.with_phil.wrapper\u001b[1;34m()\u001b[0m\n",
      "\u001b[1;32mh5py\\_objects.pyx\u001b[0m in \u001b[0;36mh5py._objects.with_phil.wrapper\u001b[1;34m()\u001b[0m\n",
      "\u001b[1;32m~\\AppData\\Local\\conda\\conda\\envs\\inz_retina\\lib\\site-packages\\h5py\\_hl\\group.py\u001b[0m in \u001b[0;36m__getitem__\u001b[1;34m(self, name)\u001b[0m\n\u001b[0;32m    165\u001b[0m                 \u001b[1;32mraise\u001b[0m \u001b[0mValueError\u001b[0m\u001b[1;33m(\u001b[0m\u001b[1;34m\"Invalid HDF5 object reference\"\u001b[0m\u001b[1;33m)\u001b[0m\u001b[1;33m\u001b[0m\u001b[0m\n\u001b[0;32m    166\u001b[0m         \u001b[1;32melse\u001b[0m\u001b[1;33m:\u001b[0m\u001b[1;33m\u001b[0m\u001b[0m\n\u001b[1;32m--> 167\u001b[1;33m             \u001b[0moid\u001b[0m \u001b[1;33m=\u001b[0m \u001b[0mh5o\u001b[0m\u001b[1;33m.\u001b[0m\u001b[0mopen\u001b[0m\u001b[1;33m(\u001b[0m\u001b[0mself\u001b[0m\u001b[1;33m.\u001b[0m\u001b[0mid\u001b[0m\u001b[1;33m,\u001b[0m \u001b[0mself\u001b[0m\u001b[1;33m.\u001b[0m\u001b[0m_e\u001b[0m\u001b[1;33m(\u001b[0m\u001b[0mname\u001b[0m\u001b[1;33m)\u001b[0m\u001b[1;33m,\u001b[0m \u001b[0mlapl\u001b[0m\u001b[1;33m=\u001b[0m\u001b[0mself\u001b[0m\u001b[1;33m.\u001b[0m\u001b[0m_lapl\u001b[0m\u001b[1;33m)\u001b[0m\u001b[1;33m\u001b[0m\u001b[0m\n\u001b[0m\u001b[0;32m    168\u001b[0m \u001b[1;33m\u001b[0m\u001b[0m\n\u001b[0;32m    169\u001b[0m         \u001b[0motype\u001b[0m \u001b[1;33m=\u001b[0m \u001b[0mh5i\u001b[0m\u001b[1;33m.\u001b[0m\u001b[0mget_type\u001b[0m\u001b[1;33m(\u001b[0m\u001b[0moid\u001b[0m\u001b[1;33m)\u001b[0m\u001b[1;33m\u001b[0m\u001b[0m\n",
      "\u001b[1;32mh5py\\_objects.pyx\u001b[0m in \u001b[0;36mh5py._objects.with_phil.wrapper\u001b[1;34m()\u001b[0m\n",
      "\u001b[1;32mh5py\\_objects.pyx\u001b[0m in \u001b[0;36mh5py._objects.with_phil.wrapper\u001b[1;34m()\u001b[0m\n",
      "\u001b[1;32mh5py\\h5o.pyx\u001b[0m in \u001b[0;36mh5py.h5o.open\u001b[1;34m()\u001b[0m\n",
      "\u001b[1;31mKeyError\u001b[0m: 'Unable to open object (component not found)'"
     ]
    }
   ],
   "source": [
    "f = h5py.File('./data_s100.hdf5', 'r')\n",
    "for k, v in f['test_data_metadata/27'].items():\n",
    "    print(k,v.value)"
   ]
  },
  {
   "cell_type": "code",
   "execution_count": 16,
   "metadata": {},
   "outputs": [
    {
     "name": "stdout",
     "output_type": "stream",
     "text": [
      "ukazować faza mieszany ognisko hipofluorescencja odpowiadać wybroczyna krwotoczki ognisko hiperfluorescencja odpowiadać mikroaneuryzmaty faza późny obrzęk siatkówka masywny wzdłuż arkada torbielowaty dochodzić plamka obwód początkowy zmiana naczyniowy tworzyć strefa awaskularne\n",
      "D_00e72bbf43229b7e7eed9816f658f20c\n"
     ]
    }
   ],
   "source": [
    "import PIL\n",
    "from text_processing.NGramCounter import NGramCounter\n",
    "from text_processing.NGramVectorBuilder import NGramVectorBuilder\n",
    "from data_module.models import Image as Retina_Image\n",
    "from data_module.models import Person, Examination, Description, ImageSeries, ProcessedDescription\n",
    "def get_ngram_vector_builder():\n",
    "    n = 2; outputs = 1000; limit = 0\n",
    "    ngc = NGramCounter()\n",
    "    n_gram = ngc.get_n_gram_histogram(n,limit,outputs)\n",
    "    return NGramVectorBuilder(n_gram), n_gram\n",
    "\n",
    "i = Retina_Image.objects.get(id=2092)\n",
    "img = PIL.Image.open(i.image)\n",
    "#img.show()\n",
    "\n",
    "desc = ProcessedDescription.objects.get(id=7)\n",
    "print(desc.text)\n",
    "iss = ImageSeries.objects.get(id=6)\n",
    "e = iss.examination\n",
    "print(e.person.code_name)\n",
    "nGramVbuild,n_gram = get_ngram_vector_builder()\n",
    "words_vector = nGramVbuild.get_vector(290, 'R')\n",
    "#print(words_vector)\n",
    "#print(n_gram)\n",
    "n_gram = list(dict(n_gram))\n",
    "#print(n_gram)\n",
    "for i in range(len(words_vector)):\n",
    "    if(words_vector[i] == 1):\n",
    "        print(n_gram[i])\n",
    "#print(n_gram)\n",
    "\n",
    "\n"
   ]
  },
  {
   "cell_type": "code",
   "execution_count": 11,
   "metadata": {},
   "outputs": [
    {
     "ename": "KeyError",
     "evalue": "'Unable to open object (component not found)'",
     "output_type": "error",
     "traceback": [
      "\u001b[1;31m---------------------------------------------------------------------------\u001b[0m",
      "\u001b[1;31mKeyError\u001b[0m                                  Traceback (most recent call last)",
      "\u001b[1;32m<ipython-input-11-4839fab5bec0>\u001b[0m in \u001b[0;36m<module>\u001b[1;34m()\u001b[0m\n\u001b[0;32m      1\u001b[0m \u001b[1;32mfor\u001b[0m \u001b[0mi\u001b[0m \u001b[1;32min\u001b[0m \u001b[0mrange\u001b[0m\u001b[1;33m(\u001b[0m\u001b[1;36m0\u001b[0m\u001b[1;33m,\u001b[0m\u001b[1;36m10\u001b[0m\u001b[1;33m)\u001b[0m\u001b[1;33m:\u001b[0m\u001b[1;33m\u001b[0m\u001b[0m\n\u001b[1;32m----> 2\u001b[1;33m     \u001b[0mw\u001b[0m \u001b[1;33m=\u001b[0m \u001b[0mf\u001b[0m\u001b[1;33m[\u001b[0m\u001b[1;34m'train_data_metadata/'\u001b[0m\u001b[1;33m+\u001b[0m\u001b[0mstr\u001b[0m\u001b[1;33m(\u001b[0m\u001b[0mi\u001b[0m\u001b[1;33m)\u001b[0m\u001b[1;33m+\u001b[0m\u001b[1;34m'/series'\u001b[0m\u001b[1;33m]\u001b[0m\u001b[1;33m.\u001b[0m\u001b[0mvalue\u001b[0m\u001b[1;33m\u001b[0m\u001b[0m\n\u001b[0m\u001b[0;32m      3\u001b[0m     \u001b[0ms\u001b[0m \u001b[1;33m=\u001b[0m \u001b[0mf\u001b[0m\u001b[1;33m[\u001b[0m\u001b[1;34m'train_data_metadata/'\u001b[0m\u001b[1;33m+\u001b[0m\u001b[0mstr\u001b[0m\u001b[1;33m(\u001b[0m\u001b[0mi\u001b[0m\u001b[1;33m)\u001b[0m\u001b[1;33m+\u001b[0m\u001b[1;34m'/side'\u001b[0m\u001b[1;33m]\u001b[0m\u001b[1;33m.\u001b[0m\u001b[0mvalue\u001b[0m\u001b[1;33m\u001b[0m\u001b[0m\n\u001b[0;32m      4\u001b[0m     \u001b[0mwords_vector\u001b[0m \u001b[1;33m=\u001b[0m \u001b[0mnGramVbuild\u001b[0m\u001b[1;33m.\u001b[0m\u001b[0mget_vector\u001b[0m\u001b[1;33m(\u001b[0m\u001b[0mw\u001b[0m\u001b[1;33m,\u001b[0m \u001b[0ms\u001b[0m\u001b[1;33m)\u001b[0m\u001b[1;33m\u001b[0m\u001b[0m\n\u001b[0;32m      5\u001b[0m     \u001b[1;32mfor\u001b[0m \u001b[0mj\u001b[0m \u001b[1;32min\u001b[0m \u001b[0mrange\u001b[0m\u001b[1;33m(\u001b[0m\u001b[0mlen\u001b[0m\u001b[1;33m(\u001b[0m\u001b[0mwords_vector\u001b[0m\u001b[1;33m)\u001b[0m\u001b[1;33m)\u001b[0m\u001b[1;33m:\u001b[0m\u001b[1;33m\u001b[0m\u001b[0m\n",
      "\u001b[1;32mh5py\\_objects.pyx\u001b[0m in \u001b[0;36mh5py._objects.with_phil.wrapper\u001b[1;34m()\u001b[0m\n",
      "\u001b[1;32mh5py\\_objects.pyx\u001b[0m in \u001b[0;36mh5py._objects.with_phil.wrapper\u001b[1;34m()\u001b[0m\n",
      "\u001b[1;32m~\\AppData\\Local\\conda\\conda\\envs\\inz_retina\\lib\\site-packages\\h5py\\_hl\\group.py\u001b[0m in \u001b[0;36m__getitem__\u001b[1;34m(self, name)\u001b[0m\n\u001b[0;32m    165\u001b[0m                 \u001b[1;32mraise\u001b[0m \u001b[0mValueError\u001b[0m\u001b[1;33m(\u001b[0m\u001b[1;34m\"Invalid HDF5 object reference\"\u001b[0m\u001b[1;33m)\u001b[0m\u001b[1;33m\u001b[0m\u001b[0m\n\u001b[0;32m    166\u001b[0m         \u001b[1;32melse\u001b[0m\u001b[1;33m:\u001b[0m\u001b[1;33m\u001b[0m\u001b[0m\n\u001b[1;32m--> 167\u001b[1;33m             \u001b[0moid\u001b[0m \u001b[1;33m=\u001b[0m \u001b[0mh5o\u001b[0m\u001b[1;33m.\u001b[0m\u001b[0mopen\u001b[0m\u001b[1;33m(\u001b[0m\u001b[0mself\u001b[0m\u001b[1;33m.\u001b[0m\u001b[0mid\u001b[0m\u001b[1;33m,\u001b[0m \u001b[0mself\u001b[0m\u001b[1;33m.\u001b[0m\u001b[0m_e\u001b[0m\u001b[1;33m(\u001b[0m\u001b[0mname\u001b[0m\u001b[1;33m)\u001b[0m\u001b[1;33m,\u001b[0m \u001b[0mlapl\u001b[0m\u001b[1;33m=\u001b[0m\u001b[0mself\u001b[0m\u001b[1;33m.\u001b[0m\u001b[0m_lapl\u001b[0m\u001b[1;33m)\u001b[0m\u001b[1;33m\u001b[0m\u001b[0m\n\u001b[0m\u001b[0;32m    168\u001b[0m \u001b[1;33m\u001b[0m\u001b[0m\n\u001b[0;32m    169\u001b[0m         \u001b[0motype\u001b[0m \u001b[1;33m=\u001b[0m \u001b[0mh5i\u001b[0m\u001b[1;33m.\u001b[0m\u001b[0mget_type\u001b[0m\u001b[1;33m(\u001b[0m\u001b[0moid\u001b[0m\u001b[1;33m)\u001b[0m\u001b[1;33m\u001b[0m\u001b[0m\n",
      "\u001b[1;32mh5py\\_objects.pyx\u001b[0m in \u001b[0;36mh5py._objects.with_phil.wrapper\u001b[1;34m()\u001b[0m\n",
      "\u001b[1;32mh5py\\_objects.pyx\u001b[0m in \u001b[0;36mh5py._objects.with_phil.wrapper\u001b[1;34m()\u001b[0m\n",
      "\u001b[1;32mh5py\\h5o.pyx\u001b[0m in \u001b[0;36mh5py.h5o.open\u001b[1;34m()\u001b[0m\n",
      "\u001b[1;31mKeyError\u001b[0m: 'Unable to open object (component not found)'"
     ]
    }
   ],
   "source": [
    "for i in range(0,10):\n",
    "    w = f['train_data_metadata/'+str(i)+'/series'].value\n",
    "    s = f['train_data_metadata/'+str(i)+'/side'].value      \n",
    "    words_vector = nGramVbuild.get_vector(w, s)\n",
    "    for j in range(len(words_vector)):\n",
    "        if(words_vector[j] == 1):\n",
    "            print(n_gram[j],i)\n",
    "            \n",
    "print(f['train_data_metadata/1/series'].value)"
   ]
  },
  {
   "cell_type": "code",
   "execution_count": 21,
   "metadata": {},
   "outputs": [],
   "source": [
    "i = Retina_Image.objects.get(id=4379)\n",
    "img = PIL.Image.open(i.image)\n",
    "img.save('i3.png')"
   ]
  },
  {
   "cell_type": "code",
   "execution_count": 17,
   "metadata": {},
   "outputs": [
    {
     "data": {
      "image/png": "[encoded data removed]",
      "text/plain": [
       "<matplotlib.figure.Figure at 0x1bb6a3be0b8>"
      ]
     },
     "metadata": {},
     "output_type": "display_data"
    },
    {
     "data": {
      "text/plain": [
       "0.875"
      ]
     },
     "execution_count": 17,
     "metadata": {},
     "output_type": "execute_result"
    }
   ],
   "source": [
    "ys = [0.8, 0.7,   0.6, 0.4, 0.8]\n",
    "yt = [1,   0,   0,   0,   0]\n",
    "generate_results(yt, ys, 0, plot=True)"
   ]
  },
  {
   "cell_type": "code",
   "execution_count": null,
   "metadata": {},
   "outputs": [],
   "source": []
  }
 ],
 "metadata": {
  "kernelspec": {
   "display_name": "Django Shell-Plus",
   "language": "python",
   "name": "django_extensions"
  },
  "language_info": {
   "codemirror_mode": {
    "name": "ipython",
    "version": 3
   },
   "file_extension": ".py",
   "mimetype": "text/x-python",
   "name": "python",
   "nbconvert_exporter": "python",
   "pygments_lexer": "ipython3",
   "version": "3.6.3"
  }
 },
 "nbformat": 4,
 "nbformat_minor": 2
}
